{
 "cells": [
  {
   "cell_type": "markdown",
   "metadata": {},
   "source": [
    "# PUMP IT UP:DATA MINING THE WATER                          TABLE"
   ]
  },
  {
   "cell_type": "code",
   "execution_count": null,
   "metadata": {},
   "outputs": [],
   "source": []
  },
  {
   "cell_type": "code",
   "execution_count": null,
   "metadata": {},
   "outputs": [],
   "source": []
  },
  {
   "cell_type": "markdown",
   "metadata": {},
   "source": [
    "## TEAM ID :  5D08\n",
    "\n",
    "## SEM        :  V\n",
    "\n",
    "## DIV          :  D\n",
    "\n",
    "## TOPIC ID: 5DMACP01\n"
   ]
  },
  {
   "cell_type": "markdown",
   "metadata": {},
   "source": [
    "## Problem Statement:\n",
    "### To predict the operating condition of a water point for each record in the given dataset."
   ]
  },
  {
   "cell_type": "markdown",
   "metadata": {},
   "source": [
    "### Team leader: Vinayak Dharmatti\n",
    "\n",
    "\n",
    "### Team Members:\n",
    " ### Vinayak Dharmatti             268                                  01FE17BCS242\n",
    " ### Veeresh Pattar                   286                                  01FE18BCS431\n",
    " ### Abhishek Hiremath           272                                  01FE16BCS005 \n",
    " ### Anusha    H                        277                                  01FE16BCS036                        "
   ]
  },
  {
   "cell_type": "code",
   "execution_count": null,
   "metadata": {
    "collapsed": true,
    "scrolled": true
   },
   "outputs": [],
   "source": [
    "## Pump it Up: Data Mining the Water Table - Data Cleaning ##"
   ]
  },
  {
   "cell_type": "markdown",
   "metadata": {},
   "source": [
    "# 1 Data reading"
   ]
  },
  {
   "cell_type": "code",
   "execution_count": 35,
   "metadata": {
    "scrolled": true
   },
   "outputs": [],
   "source": [
    "import pandas as pd\n",
    "import numpy as np\n",
    "import matplotlib.pyplot as plt\n",
    "%matplotlib inline \n",
    "import seaborn as sns"
   ]
  },
  {
   "cell_type": "code",
   "execution_count": 36,
   "metadata": {
    "scrolled": true
   },
   "outputs": [
    {
     "name": "stdout",
     "output_type": "stream",
     "text": [
      "Reading data...\n",
      "Reading data...completed\n"
     ]
    }
   ],
   "source": [
    "print(\"Reading data...\")\n",
    "\n",
    "train_values = pd.read_csv(\"training_set_values.csv\")\n",
    "train_labels=pd.read_csv(\"training_set_labels.csv\")\n",
    "\n",
    "test=pd.read_csv('test_set_values.csv')\n",
    "test_copy=test.copy()\n",
    "\n",
    "print(\"Reading data...completed\")"
   ]
  },
  {
   "cell_type": "markdown",
   "metadata": {},
   "source": [
    "### combining labels with train data"
   ]
  },
  {
   "cell_type": "code",
   "execution_count": 37,
   "metadata": {
    "scrolled": true
   },
   "outputs": [],
   "source": [
    "# Combining the labels with train data\n",
    "train=train_values.merge(train_labels,on='id',how='inner')"
   ]
  },
  {
   "cell_type": "code",
   "execution_count": 38,
   "metadata": {},
   "outputs": [],
   "source": [
    "data_labels=pd.read_csv('training_set_values.csv')\n",
    "data_values=pd.read_csv('training_set_labels.csv')\n",
    "train = data_values.merge(data_labels, on='id')"
   ]
  },
  {
   "cell_type": "code",
   "execution_count": 39,
   "metadata": {
    "scrolled": true
   },
   "outputs": [
    {
     "data": {
      "text/html": [
       "<div>\n",
       "<style scoped>\n",
       "    .dataframe tbody tr th:only-of-type {\n",
       "        vertical-align: middle;\n",
       "    }\n",
       "\n",
       "    .dataframe tbody tr th {\n",
       "        vertical-align: top;\n",
       "    }\n",
       "\n",
       "    .dataframe thead th {\n",
       "        text-align: right;\n",
       "    }\n",
       "</style>\n",
       "<table border=\"1\" class=\"dataframe\">\n",
       "  <thead>\n",
       "    <tr style=\"text-align: right;\">\n",
       "      <th></th>\n",
       "      <th>id</th>\n",
       "      <th>status_group</th>\n",
       "      <th>amount_tsh</th>\n",
       "      <th>date_recorded</th>\n",
       "      <th>funder</th>\n",
       "      <th>gps_height</th>\n",
       "      <th>installer</th>\n",
       "      <th>longitude</th>\n",
       "      <th>latitude</th>\n",
       "      <th>wpt_name</th>\n",
       "      <th>...</th>\n",
       "      <th>payment_type</th>\n",
       "      <th>water_quality</th>\n",
       "      <th>quality_group</th>\n",
       "      <th>quantity</th>\n",
       "      <th>quantity_group</th>\n",
       "      <th>source</th>\n",
       "      <th>source_type</th>\n",
       "      <th>source_class</th>\n",
       "      <th>waterpoint_type</th>\n",
       "      <th>waterpoint_type_group</th>\n",
       "    </tr>\n",
       "  </thead>\n",
       "  <tbody>\n",
       "    <tr>\n",
       "      <td>0</td>\n",
       "      <td>69572</td>\n",
       "      <td>functional</td>\n",
       "      <td>6000.0</td>\n",
       "      <td>2011-03-14</td>\n",
       "      <td>Roman</td>\n",
       "      <td>1390</td>\n",
       "      <td>Roman</td>\n",
       "      <td>34.938093</td>\n",
       "      <td>-9.856322</td>\n",
       "      <td>none</td>\n",
       "      <td>...</td>\n",
       "      <td>annually</td>\n",
       "      <td>soft</td>\n",
       "      <td>good</td>\n",
       "      <td>enough</td>\n",
       "      <td>enough</td>\n",
       "      <td>spring</td>\n",
       "      <td>spring</td>\n",
       "      <td>groundwater</td>\n",
       "      <td>communal standpipe</td>\n",
       "      <td>communal standpipe</td>\n",
       "    </tr>\n",
       "    <tr>\n",
       "      <td>1</td>\n",
       "      <td>8776</td>\n",
       "      <td>functional</td>\n",
       "      <td>0.0</td>\n",
       "      <td>2013-03-06</td>\n",
       "      <td>Grumeti</td>\n",
       "      <td>1399</td>\n",
       "      <td>GRUMETI</td>\n",
       "      <td>34.698766</td>\n",
       "      <td>-2.147466</td>\n",
       "      <td>Zahanati</td>\n",
       "      <td>...</td>\n",
       "      <td>never pay</td>\n",
       "      <td>soft</td>\n",
       "      <td>good</td>\n",
       "      <td>insufficient</td>\n",
       "      <td>insufficient</td>\n",
       "      <td>rainwater harvesting</td>\n",
       "      <td>rainwater harvesting</td>\n",
       "      <td>surface</td>\n",
       "      <td>communal standpipe</td>\n",
       "      <td>communal standpipe</td>\n",
       "    </tr>\n",
       "    <tr>\n",
       "      <td>2</td>\n",
       "      <td>34310</td>\n",
       "      <td>functional</td>\n",
       "      <td>25.0</td>\n",
       "      <td>2013-02-25</td>\n",
       "      <td>Lottery Club</td>\n",
       "      <td>686</td>\n",
       "      <td>World vision</td>\n",
       "      <td>37.460664</td>\n",
       "      <td>-3.821329</td>\n",
       "      <td>Kwa Mahundi</td>\n",
       "      <td>...</td>\n",
       "      <td>per bucket</td>\n",
       "      <td>soft</td>\n",
       "      <td>good</td>\n",
       "      <td>enough</td>\n",
       "      <td>enough</td>\n",
       "      <td>dam</td>\n",
       "      <td>dam</td>\n",
       "      <td>surface</td>\n",
       "      <td>communal standpipe multiple</td>\n",
       "      <td>communal standpipe</td>\n",
       "    </tr>\n",
       "    <tr>\n",
       "      <td>3</td>\n",
       "      <td>67743</td>\n",
       "      <td>non functional</td>\n",
       "      <td>0.0</td>\n",
       "      <td>2013-01-28</td>\n",
       "      <td>Unicef</td>\n",
       "      <td>263</td>\n",
       "      <td>UNICEF</td>\n",
       "      <td>38.486161</td>\n",
       "      <td>-11.155298</td>\n",
       "      <td>Zahanati Ya Nanyumbu</td>\n",
       "      <td>...</td>\n",
       "      <td>never pay</td>\n",
       "      <td>soft</td>\n",
       "      <td>good</td>\n",
       "      <td>dry</td>\n",
       "      <td>dry</td>\n",
       "      <td>machine dbh</td>\n",
       "      <td>borehole</td>\n",
       "      <td>groundwater</td>\n",
       "      <td>communal standpipe multiple</td>\n",
       "      <td>communal standpipe</td>\n",
       "    </tr>\n",
       "    <tr>\n",
       "      <td>4</td>\n",
       "      <td>19728</td>\n",
       "      <td>functional</td>\n",
       "      <td>0.0</td>\n",
       "      <td>2011-07-13</td>\n",
       "      <td>Action In A</td>\n",
       "      <td>0</td>\n",
       "      <td>Artisan</td>\n",
       "      <td>31.130847</td>\n",
       "      <td>-1.825359</td>\n",
       "      <td>Shuleni</td>\n",
       "      <td>...</td>\n",
       "      <td>never pay</td>\n",
       "      <td>soft</td>\n",
       "      <td>good</td>\n",
       "      <td>seasonal</td>\n",
       "      <td>seasonal</td>\n",
       "      <td>rainwater harvesting</td>\n",
       "      <td>rainwater harvesting</td>\n",
       "      <td>surface</td>\n",
       "      <td>communal standpipe</td>\n",
       "      <td>communal standpipe</td>\n",
       "    </tr>\n",
       "  </tbody>\n",
       "</table>\n",
       "<p>5 rows × 41 columns</p>\n",
       "</div>"
      ],
      "text/plain": [
       "      id    status_group  amount_tsh date_recorded        funder  gps_height  \\\n",
       "0  69572      functional      6000.0    2011-03-14         Roman        1390   \n",
       "1   8776      functional         0.0    2013-03-06       Grumeti        1399   \n",
       "2  34310      functional        25.0    2013-02-25  Lottery Club         686   \n",
       "3  67743  non functional         0.0    2013-01-28        Unicef         263   \n",
       "4  19728      functional         0.0    2011-07-13   Action In A           0   \n",
       "\n",
       "      installer  longitude   latitude              wpt_name  ...  \\\n",
       "0         Roman  34.938093  -9.856322                  none  ...   \n",
       "1       GRUMETI  34.698766  -2.147466              Zahanati  ...   \n",
       "2  World vision  37.460664  -3.821329           Kwa Mahundi  ...   \n",
       "3        UNICEF  38.486161 -11.155298  Zahanati Ya Nanyumbu  ...   \n",
       "4       Artisan  31.130847  -1.825359               Shuleni  ...   \n",
       "\n",
       "   payment_type water_quality quality_group      quantity  quantity_group  \\\n",
       "0      annually          soft          good        enough          enough   \n",
       "1     never pay          soft          good  insufficient    insufficient   \n",
       "2    per bucket          soft          good        enough          enough   \n",
       "3     never pay          soft          good           dry             dry   \n",
       "4     never pay          soft          good      seasonal        seasonal   \n",
       "\n",
       "                 source           source_type source_class  \\\n",
       "0                spring                spring  groundwater   \n",
       "1  rainwater harvesting  rainwater harvesting      surface   \n",
       "2                   dam                   dam      surface   \n",
       "3           machine dbh              borehole  groundwater   \n",
       "4  rainwater harvesting  rainwater harvesting      surface   \n",
       "\n",
       "               waterpoint_type waterpoint_type_group  \n",
       "0           communal standpipe    communal standpipe  \n",
       "1           communal standpipe    communal standpipe  \n",
       "2  communal standpipe multiple    communal standpipe  \n",
       "3  communal standpipe multiple    communal standpipe  \n",
       "4           communal standpipe    communal standpipe  \n",
       "\n",
       "[5 rows x 41 columns]"
      ]
     },
     "execution_count": 39,
     "metadata": {},
     "output_type": "execute_result"
    }
   ],
   "source": [
    "train.head()"
   ]
  },
  {
   "cell_type": "code",
   "execution_count": 40,
   "metadata": {},
   "outputs": [
    {
     "data": {
      "text/plain": [
       "id                           0\n",
       "status_group                 0\n",
       "amount_tsh                   0\n",
       "date_recorded                0\n",
       "funder                    3635\n",
       "gps_height                   0\n",
       "installer                 3655\n",
       "longitude                    0\n",
       "latitude                     0\n",
       "wpt_name                     0\n",
       "num_private                  0\n",
       "basin                        0\n",
       "subvillage                 371\n",
       "region                       0\n",
       "region_code                  0\n",
       "district_code                0\n",
       "lga                          0\n",
       "ward                         0\n",
       "population                   0\n",
       "public_meeting            3334\n",
       "recorded_by                  0\n",
       "scheme_management         3877\n",
       "scheme_name              28166\n",
       "permit                    3056\n",
       "construction_year            0\n",
       "extraction_type              0\n",
       "extraction_type_group        0\n",
       "extraction_type_class        0\n",
       "management                   0\n",
       "management_group             0\n",
       "payment                      0\n",
       "payment_type                 0\n",
       "water_quality                0\n",
       "quality_group                0\n",
       "quantity                     0\n",
       "quantity_group               0\n",
       "source                       0\n",
       "source_type                  0\n",
       "source_class                 0\n",
       "waterpoint_type              0\n",
       "waterpoint_type_group        0\n",
       "dtype: int64"
      ]
     },
     "execution_count": 40,
     "metadata": {},
     "output_type": "execute_result"
    }
   ],
   "source": [
    "train[\"gps_height\"].fillna(train.groupby(['region', 'district_code'])[\"gps_height\"].transform(\"mean\"), inplace=True)\n",
    "train[\"gps_height\"].fillna(train.groupby(['region'])[\"gps_height\"].transform(\"mean\"), inplace=True)\n",
    "train[\"gps_height\"].fillna(train[\"gps_height\"].mean(), inplace=True)\n",
    "train[\"population\"].fillna(train.groupby(['region', 'district_code'])[\"population\"].transform(\"median\"), inplace=True)\n",
    "train[\"population\"].fillna(train.groupby(['region'])[\"population\"].transform(\"median\"), inplace=True)\n",
    "train[\"population\"].fillna(train[\"population\"].median(), inplace=True)\n",
    "train[\"amount_tsh\"].fillna(train.groupby(['region', 'district_code'])[\"amount_tsh\"].transform(\"median\"), inplace=True)\n",
    "train[\"amount_tsh\"].fillna(train.groupby(['region'])[\"amount_tsh\"].transform(\"median\"), inplace=True)\n",
    "train[\"amount_tsh\"].fillna(train[\"amount_tsh\"].median(), inplace=True)\n",
    "train.isnull().sum()"
   ]
  },
  {
   "cell_type": "code",
   "execution_count": 41,
   "metadata": {},
   "outputs": [
    {
     "data": {
      "text/plain": [
       "soft                  50818\n",
       "salty                  4856\n",
       "unknown                1876\n",
       "milky                   804\n",
       "coloured                490\n",
       "salty abandoned         339\n",
       "fluoride                200\n",
       "fluoride abandoned       17\n",
       "Name: water_quality, dtype: int64"
      ]
     },
     "execution_count": 41,
     "metadata": {},
     "output_type": "execute_result"
    },
    {
     "data": {
      "image/png": "[encoded data removed]",
      "text/plain": [
       "<Figure size 1008x432 with 1 Axes>"
      ]
     },
     "metadata": {
      "needs_background": "light"
     },
     "output_type": "display_data"
    }
   ],
   "source": [
    "plt.figure(figsize=(14,6))\n",
    "sns.countplot(data=data,x='water_quality',hue='status_group')\n",
    "plt.legend(bbox_to_anchor=(1.05, 1), loc=2, borderaxespad=0.)\n",
    "data.water_quality.value_counts()"
   ]
  },
  {
   "cell_type": "code",
   "execution_count": 42,
   "metadata": {},
   "outputs": [
    {
     "data": {
      "text/plain": [
       "<matplotlib.axes._subplots.AxesSubplot at 0x7fd87c6f9be0>"
      ]
     },
     "execution_count": 42,
     "metadata": {},
     "output_type": "execute_result"
    },
    {
     "data": {
      "image/png": "[encoded data removed]",
      "text/plain": [
       "<Figure size 1728x648 with 1 Axes>"
      ]
     },
     "metadata": {
      "needs_background": "light"
     },
     "output_type": "display_data"
    }
   ],
   "source": [
    "plt.figure(figsize=(24, 9))\n",
    "\n",
    "sns.countplot(data=data,x='region',hue='status_group')"
   ]
  },
  {
   "cell_type": "code",
   "execution_count": 43,
   "metadata": {},
   "outputs": [
    {
     "data": {
      "text/plain": [
       "<matplotlib.axes._subplots.AxesSubplot at 0x7fd8800a2be0>"
      ]
     },
     "execution_count": 43,
     "metadata": {},
     "output_type": "execute_result"
    },
    {
     "data": {
      "image/png": "[encoded data removed]",
      "text/plain": [
       "<Figure size 1728x648 with 1 Axes>"
      ]
     },
     "metadata": {
      "needs_background": "light"
     },
     "output_type": "display_data"
    }
   ],
   "source": [
    "plt.figure(figsize=(24, 9))\n",
    "\n",
    "sns.countplot(data=data,x='public_meeting',hue='status_group')"
   ]
  },
  {
   "cell_type": "code",
   "execution_count": 44,
   "metadata": {},
   "outputs": [
    {
     "data": {
      "text/plain": [
       "<seaborn.axisgrid.FacetGrid at 0x7fd87f961be0>"
      ]
     },
     "execution_count": 44,
     "metadata": {},
     "output_type": "execute_result"
    },
    {
     "data": {
      "image/png": "[encoded data removed]",
      "text/plain": [
       "<Figure size 1160.12x1008 with 1 Axes>"
      ]
     },
     "metadata": {
      "needs_background": "light"
     },
     "output_type": "display_data"
    }
   ],
   "source": [
    "(sns\n",
    "  .FacetGrid(data, \n",
    "             hue='status_group',size=14)\n",
    "  .map(sns.kdeplot, 'population', shade=True)\n",
    " .add_legend()\n",
    ")\n"
   ]
  },
  {
   "cell_type": "code",
   "execution_count": 45,
   "metadata": {},
   "outputs": [
    {
     "data": {
      "text/plain": [
       "<seaborn.axisgrid.FacetGrid at 0x7fd87f60a0f0>"
      ]
     },
     "execution_count": 45,
     "metadata": {},
     "output_type": "execute_result"
    },
    {
     "data": {
      "image/png": "[encoded data removed]",
      "text/plain": [
       "<Figure size 872.125x720 with 1 Axes>"
      ]
     },
     "metadata": {
      "needs_background": "light"
     },
     "output_type": "display_data"
    }
   ],
   "source": [
    "(sns\n",
    "  .FacetGrid(data, \n",
    "             hue='status_group',size=10)\n",
    "  .map(sns.kdeplot, 'construction_year', shade=True)\n",
    " .add_legend()\n",
    ")"
   ]
  },
  {
   "cell_type": "code",
   "execution_count": 46,
   "metadata": {},
   "outputs": [
    {
     "data": {
      "text/plain": [
       "<seaborn.axisgrid.FacetGrid at 0x7fd87c6dd198>"
      ]
     },
     "execution_count": 46,
     "metadata": {},
     "output_type": "execute_result"
    },
    {
     "data": {
      "image/png": "[encoded data removed]",
      "text/plain": [
       "<Figure size 1232.12x1080 with 1 Axes>"
      ]
     },
     "metadata": {
      "needs_background": "light"
     },
     "output_type": "display_data"
    }
   ],
   "source": [
    "(sns\n",
    "  .FacetGrid(data, \n",
    "             hue='status_group',size=15)\n",
    "  .map(sns.kdeplot, 'amount_tsh', shade=True)\n",
    " .add_legend()\n",
    ")"
   ]
  },
  {
   "cell_type": "code",
   "execution_count": 47,
   "metadata": {},
   "outputs": [
    {
     "data": {
      "text/plain": [
       "<matplotlib.axes._subplots.AxesSubplot at 0x7fd8800c4b00>"
      ]
     },
     "execution_count": 47,
     "metadata": {},
     "output_type": "execute_result"
    },
    {
     "data": {
      "image/png": "[encoded data removed]",
      "text/plain": [
       "<Figure size 1728x648 with 1 Axes>"
      ]
     },
     "metadata": {
      "needs_background": "light"
     },
     "output_type": "display_data"
    }
   ],
   "source": [
    "plt.figure(figsize=(24, 9))\n",
    "\n",
    "sns.countplot(data=data,x='extraction_type_group',hue='status_group')"
   ]
  },
  {
   "cell_type": "code",
   "execution_count": null,
   "metadata": {},
   "outputs": [],
   "source": []
  },
  {
   "cell_type": "code",
   "execution_count": null,
   "metadata": {},
   "outputs": [],
   "source": []
  },
  {
   "cell_type": "markdown",
   "metadata": {},
   "source": [
    "### converting status group label into neumerical data"
   ]
  },
  {
   "cell_type": "code",
   "execution_count": 48,
   "metadata": {
    "scrolled": true
   },
   "outputs": [
    {
     "data": {
      "text/plain": [
       "<bound method NDFrame.head of 0        2\n",
       "1        2\n",
       "2        2\n",
       "3        0\n",
       "4        2\n",
       "        ..\n",
       "59395    2\n",
       "59396    2\n",
       "59397    2\n",
       "59398    2\n",
       "59399    2\n",
       "Name: status_group_vals, Length: 59400, dtype: int64>"
      ]
     },
     "execution_count": 48,
     "metadata": {},
     "output_type": "execute_result"
    }
   ],
   "source": [
    "#convert status group label into numerical data\n",
    "\n",
    "\n",
    "val_status_group={'functional':2, 'functional needs repair':1,\n",
    "                   'non functional':0}\n",
    "train['status_group_vals']=train.status_group.replace(val_status_group)\n",
    "\n",
    "train['status_group_vals'].head"
   ]
  },
  {
   "cell_type": "markdown",
   "metadata": {},
   "source": [
    "# 2 Data cleaning"
   ]
  },
  {
   "cell_type": "code",
   "execution_count": 49,
   "metadata": {
    "scrolled": true
   },
   "outputs": [
    {
     "data": {
      "text/plain": [
       "Government Of Tanzania    9084\n",
       "Danida                    3114\n",
       "Hesawa                    2202\n",
       "Rwssp                     1374\n",
       "World Bank                1349\n",
       "                          ... \n",
       "Oxfarm Gb                    1\n",
       "Drv Na Idara                 1\n",
       "Tquick Wings                 1\n",
       "Ms-danish                    1\n",
       "Jumanne Siabo                1\n",
       "Name: funder, Length: 1897, dtype: int64"
      ]
     },
     "execution_count": 49,
     "metadata": {},
     "output_type": "execute_result"
    }
   ],
   "source": [
    "# We can see few columns contain null values. Hence, we need to fix them before beginning any sort of Analysis on the data.\n",
    "\n",
    "# Starting with value \"funder\"\n",
    "train['funder'].value_counts()"
   ]
  },
  {
   "cell_type": "code",
   "execution_count": 50,
   "metadata": {
    "scrolled": true
   },
   "outputs": [],
   "source": [
    "#Lets divide funder column into 9 categories, top 9 will be remained as it is and after that they will be categorised into other\n",
    "# Creating a function to categorize:\n",
    "# Keep high frequency values and replace low frequency values with new category \"other\"\n",
    "\n",
    "def funder_cleaning(train):\n",
    "    if train['funder']=='Government Of Tanzania':\n",
    "        return 'government'\n",
    "    elif train['funder']=='Danida':\n",
    "        return 'danida'\n",
    "    elif train['funder']=='Hesawa':\n",
    "        return 'hesawa'\n",
    "    elif train['funder']=='Rwssp':\n",
    "        return 'rwssp'\n",
    "    elif train['funder']=='World Bank':\n",
    "        return 'world_bank'\n",
    "    elif train['funder']=='Kkkt':\n",
    "        return 'Kkkt'\n",
    "    elif train['funder']=='World Vision':\n",
    "        return 'world_vision'\n",
    "    elif train['funder']=='Tasaf':\n",
    "        return 'Tasaf'\n",
    "    elif train['funder']=='Unicef':\n",
    "        return 'unicef'\n",
    "    else:\n",
    "        return 'other'\n",
    "    \n",
    "train['funder']= train.apply(lambda row: funder_cleaning(row), axis=1)\n",
    "test['funder']= test.apply(lambda row: funder_cleaning(row), axis=1)"
   ]
  },
  {
   "cell_type": "code",
   "execution_count": 51,
   "metadata": {
    "scrolled": true
   },
   "outputs": [
    {
     "data": {
      "text/plain": [
       "DWE              17402\n",
       "Government        1825\n",
       "RWE               1206\n",
       "Commu             1060\n",
       "DANIDA            1050\n",
       "                 ...  \n",
       "magige               1\n",
       "COW                  1\n",
       "MOSQUE               1\n",
       "Makundya             1\n",
       "Jumanne Siabo        1\n",
       "Name: installer, Length: 2145, dtype: int64"
      ]
     },
     "execution_count": 51,
     "metadata": {},
     "output_type": "execute_result"
    }
   ],
   "source": [
    "\n",
    "# Exploring \"installer\" variable\n",
    "train['installer'].value_counts()"
   ]
  },
  {
   "cell_type": "code",
   "execution_count": 52,
   "metadata": {
    "scrolled": true
   },
   "outputs": [],
   "source": [
    "# Categorizing installer variable \n",
    "#Lets divide installer column into 5 categories, top 5 will be remained as it is and after that they will be categorised into other\n",
    "\n",
    "def installer_cleaning(train):\n",
    "    if train['installer']=='DWE':\n",
    "        return 'dwe'\n",
    "    elif train['installer']=='Government':\n",
    "        return 'government'\n",
    "    elif train['installer']=='RWE':\n",
    "        return 'rwe'\n",
    "    elif train['installer']=='Commu':\n",
    "        return 'commu'\n",
    "    elif train['installer']=='DANIDA':\n",
    "        return 'danida'    \n",
    "    else:\n",
    "        return 'other'\n",
    "    \n",
    "train['installer']= train.apply(lambda row: installer_cleaning(row), axis=1)\n",
    "test['installer']= test.apply(lambda row: installer_cleaning(row), axis=1)"
   ]
  },
  {
   "cell_type": "code",
   "execution_count": 53,
   "metadata": {},
   "outputs": [
    {
     "data": {
      "text/plain": [
       "VWC                 36793\n",
       "WUG                  5206\n",
       "Water authority      3153\n",
       "WUA                  2883\n",
       "Water Board          2748\n",
       "Parastatal           1680\n",
       "Private operator     1063\n",
       "Company              1061\n",
       "Other                 766\n",
       "SWC                    97\n",
       "Trust                  72\n",
       "None                    1\n",
       "Name: scheme_management, dtype: int64"
      ]
     },
     "execution_count": 53,
     "metadata": {},
     "output_type": "execute_result"
    }
   ],
   "source": [
    "#Scheme Management\n",
    "train['scheme_management'].value_counts()"
   ]
  },
  {
   "cell_type": "code",
   "execution_count": 54,
   "metadata": {},
   "outputs": [],
   "source": [
    "# Create a function to reduce the amount of dummy columns needed whilst maintaining the \n",
    "# information contained in the column.\n",
    "\n",
    "# Since ther 'scheme_management' variable includes high frequency and few low as well. We'll categorize it.\n",
    "\n",
    "def scheme_wrangler(row):\n",
    "    '''Keep top 5 values and set the rest to 'other'. '''\n",
    "    if row['scheme_management']=='VWC':\n",
    "        return 'vwc'\n",
    "    elif row['scheme_management']=='WUG':\n",
    "        return 'wug'\n",
    "    elif row['scheme_management']=='Water authority':\n",
    "        return 'wtr_auth'\n",
    "    elif row['scheme_management']=='WUA':\n",
    "        return 'wua'\n",
    "    elif row['scheme_management']=='Water Board':\n",
    "        return 'wtr_brd'\n",
    "    else:\n",
    "        return 'other'\n",
    "\n",
    "train['scheme_management'] = train.apply(lambda row: scheme_wrangler(row), axis=1)\n",
    "test['scheme_management'] = test.apply(lambda row: scheme_wrangler(row), axis=1)"
   ]
  },
  {
   "cell_type": "code",
   "execution_count": 55,
   "metadata": {
    "scrolled": true
   },
   "outputs": [
    {
     "data": {
      "text/html": [
       "<div>\n",
       "<style scoped>\n",
       "    .dataframe tbody tr th:only-of-type {\n",
       "        vertical-align: middle;\n",
       "    }\n",
       "\n",
       "    .dataframe tbody tr th {\n",
       "        vertical-align: top;\n",
       "    }\n",
       "\n",
       "    .dataframe thead th {\n",
       "        text-align: right;\n",
       "    }\n",
       "</style>\n",
       "<table border=\"1\" class=\"dataframe\">\n",
       "  <thead>\n",
       "    <tr style=\"text-align: right;\">\n",
       "      <th></th>\n",
       "      <th></th>\n",
       "      <th>status_group_vals</th>\n",
       "    </tr>\n",
       "    <tr>\n",
       "      <th>amount_tsh</th>\n",
       "      <th>status_group</th>\n",
       "      <th></th>\n",
       "    </tr>\n",
       "  </thead>\n",
       "  <tbody>\n",
       "    <tr>\n",
       "      <td rowspan=\"3\" valign=\"top\">0.00</td>\n",
       "      <td>functional</td>\n",
       "      <td>19706</td>\n",
       "    </tr>\n",
       "    <tr>\n",
       "      <td>functional needs repair</td>\n",
       "      <td>3048</td>\n",
       "    </tr>\n",
       "    <tr>\n",
       "      <td>non functional</td>\n",
       "      <td>18885</td>\n",
       "    </tr>\n",
       "    <tr>\n",
       "      <td>0.20</td>\n",
       "      <td>non functional</td>\n",
       "      <td>3</td>\n",
       "    </tr>\n",
       "    <tr>\n",
       "      <td>0.25</td>\n",
       "      <td>functional</td>\n",
       "      <td>1</td>\n",
       "    </tr>\n",
       "    <tr>\n",
       "      <td>...</td>\n",
       "      <td>...</td>\n",
       "      <td>...</td>\n",
       "    </tr>\n",
       "    <tr>\n",
       "      <td>138000.00</td>\n",
       "      <td>functional</td>\n",
       "      <td>1</td>\n",
       "    </tr>\n",
       "    <tr>\n",
       "      <td>170000.00</td>\n",
       "      <td>functional</td>\n",
       "      <td>1</td>\n",
       "    </tr>\n",
       "    <tr>\n",
       "      <td>200000.00</td>\n",
       "      <td>functional</td>\n",
       "      <td>1</td>\n",
       "    </tr>\n",
       "    <tr>\n",
       "      <td>250000.00</td>\n",
       "      <td>functional</td>\n",
       "      <td>1</td>\n",
       "    </tr>\n",
       "    <tr>\n",
       "      <td>350000.00</td>\n",
       "      <td>functional</td>\n",
       "      <td>1</td>\n",
       "    </tr>\n",
       "  </tbody>\n",
       "</table>\n",
       "<p>187 rows × 1 columns</p>\n",
       "</div>"
      ],
      "text/plain": [
       "                                    status_group_vals\n",
       "amount_tsh status_group                              \n",
       "0.00       functional                           19706\n",
       "           functional needs repair               3048\n",
       "           non functional                       18885\n",
       "0.20       non functional                           3\n",
       "0.25       functional                               1\n",
       "...                                               ...\n",
       "138000.00  functional                               1\n",
       "170000.00  functional                               1\n",
       "200000.00  functional                               1\n",
       "250000.00  functional                               1\n",
       "350000.00  functional                               1\n",
       "\n",
       "[187 rows x 1 columns]"
      ]
     },
     "execution_count": 55,
     "metadata": {},
     "output_type": "execute_result"
    }
   ],
   "source": [
    "# checking null values in amount_tsh\n",
    "# as functional and non functional are almost same for 0.00 value we cannot conclude anything with the value zero so replace it with mean\n",
    "piv_table  = pd.pivot_table(train,index=['amount_tsh','status_group'],\n",
    "                           values='status_group_vals', aggfunc='count')\n",
    "piv_table"
   ]
  },
  {
   "cell_type": "markdown",
   "metadata": {},
   "source": [
    "## Filling the missing values"
   ]
  },
  {
   "cell_type": "markdown",
   "metadata": {},
   "source": [
    "### Replacing with mean"
   ]
  },
  {
   "cell_type": "code",
   "execution_count": 56,
   "metadata": {
    "scrolled": true
   },
   "outputs": [
    {
     "data": {
      "text/plain": [
       "0    6000.0\n",
       "1       NaN\n",
       "2      25.0\n",
       "3       NaN\n",
       "4       NaN\n",
       "Name: amount_tsh, dtype: float64"
      ]
     },
     "execution_count": 56,
     "metadata": {},
     "output_type": "execute_result"
    }
   ],
   "source": [
    "# replace amount_tsh with its mean value\n",
    "train.amount_tsh.replace(0,np.nan,inplace=True)\n",
    "train.amount_tsh.head()"
   ]
  },
  {
   "cell_type": "code",
   "execution_count": 57,
   "metadata": {},
   "outputs": [
    {
     "data": {
      "text/plain": [
       "0      NaN\n",
       "1      NaN\n",
       "2      NaN\n",
       "3      NaN\n",
       "4    500.0\n",
       "Name: amount_tsh, dtype: float64"
      ]
     },
     "execution_count": 57,
     "metadata": {},
     "output_type": "execute_result"
    }
   ],
   "source": [
    "test.amount_tsh.replace(0,np.nan,inplace=True)\n",
    "test.amount_tsh.head()"
   ]
  },
  {
   "cell_type": "code",
   "execution_count": 58,
   "metadata": {
    "scrolled": true
   },
   "outputs": [
    {
     "name": "stdout",
     "output_type": "stream",
     "text": [
      "1062.351942458195\n"
     ]
    }
   ],
   "source": [
    "Mean_value=train.amount_tsh.mean()\n",
    "print(Mean_value)"
   ]
  },
  {
   "cell_type": "code",
   "execution_count": 59,
   "metadata": {},
   "outputs": [
    {
     "name": "stdout",
     "output_type": "stream",
     "text": [
      "1079.725382882883\n"
     ]
    }
   ],
   "source": [
    "Mean_value_test=test.amount_tsh.mean()\n",
    "print(Mean_value_test)"
   ]
  },
  {
   "cell_type": "code",
   "execution_count": 60,
   "metadata": {
    "scrolled": true
   },
   "outputs": [
    {
     "data": {
      "text/plain": [
       "0    6000.000000\n",
       "1    1062.351942\n",
       "2      25.000000\n",
       "3    1062.351942\n",
       "4    1062.351942\n",
       "Name: amount_tsh, dtype: float64"
      ]
     },
     "execution_count": 60,
     "metadata": {},
     "output_type": "execute_result"
    }
   ],
   "source": [
    "train.amount_tsh.replace(np.nan,Mean_value,inplace=True)\n",
    "train.amount_tsh.head()"
   ]
  },
  {
   "cell_type": "code",
   "execution_count": 61,
   "metadata": {},
   "outputs": [
    {
     "data": {
      "text/plain": [
       "0    1079.725383\n",
       "1    1079.725383\n",
       "2    1079.725383\n",
       "3    1079.725383\n",
       "4     500.000000\n",
       "Name: amount_tsh, dtype: float64"
      ]
     },
     "execution_count": 61,
     "metadata": {},
     "output_type": "execute_result"
    }
   ],
   "source": [
    "test.amount_tsh.replace(np.nan,Mean_value_test,inplace=True)\n",
    "test.amount_tsh.head()"
   ]
  },
  {
   "cell_type": "code",
   "execution_count": 62,
   "metadata": {
    "scrolled": true
   },
   "outputs": [
    {
     "data": {
      "text/plain": [
       "0    109.0\n",
       "1    280.0\n",
       "2    250.0\n",
       "3     58.0\n",
       "4      NaN\n",
       "Name: population, dtype: float64"
      ]
     },
     "execution_count": 62,
     "metadata": {},
     "output_type": "execute_result"
    }
   ],
   "source": [
    "train.population.replace(0,np.nan,inplace=True)\n",
    "train.population.head()"
   ]
  },
  {
   "cell_type": "code",
   "execution_count": 63,
   "metadata": {},
   "outputs": [
    {
     "data": {
      "text/plain": [
       "0    321.0\n",
       "1    300.0\n",
       "2    500.0\n",
       "3    250.0\n",
       "4     60.0\n",
       "Name: population, dtype: float64"
      ]
     },
     "execution_count": 63,
     "metadata": {},
     "output_type": "execute_result"
    }
   ],
   "source": [
    "test.population.replace(0,np.nan,inplace=True)\n",
    "test.population.head()"
   ]
  },
  {
   "cell_type": "code",
   "execution_count": 64,
   "metadata": {
    "scrolled": true
   },
   "outputs": [
    {
     "name": "stdout",
     "output_type": "stream",
     "text": [
      "281.08716694284436\n"
     ]
    }
   ],
   "source": [
    "Mean_value_p=train.population.mean()\n",
    "print(Mean_value_p)"
   ]
  },
  {
   "cell_type": "code",
   "execution_count": 65,
   "metadata": {},
   "outputs": [
    {
     "name": "stdout",
     "output_type": "stream",
     "text": [
      "290.9541342981803\n"
     ]
    }
   ],
   "source": [
    "Mean_value_p_test=test.population.mean()\n",
    "print(Mean_value_p_test)"
   ]
  },
  {
   "cell_type": "code",
   "execution_count": 66,
   "metadata": {
    "scrolled": true
   },
   "outputs": [],
   "source": [
    "train.population.replace(np.nan,Mean_value_p,inplace=True)"
   ]
  },
  {
   "cell_type": "code",
   "execution_count": 67,
   "metadata": {},
   "outputs": [],
   "source": [
    "test.population.replace(np.nan,Mean_value_p_test,inplace=True)"
   ]
  },
  {
   "cell_type": "code",
   "execution_count": 68,
   "metadata": {},
   "outputs": [
    {
     "data": {
      "text/plain": [
       "0    1390.0\n",
       "1    1399.0\n",
       "2     686.0\n",
       "3     263.0\n",
       "4       NaN\n",
       "Name: gps_height, dtype: float64"
      ]
     },
     "execution_count": 68,
     "metadata": {},
     "output_type": "execute_result"
    }
   ],
   "source": [
    "train.gps_height.replace(0,np.nan,inplace=True)\n",
    "train.gps_height.head()"
   ]
  },
  {
   "cell_type": "code",
   "execution_count": 69,
   "metadata": {},
   "outputs": [
    {
     "data": {
      "text/plain": [
       "0    1996.0\n",
       "1    1569.0\n",
       "2    1567.0\n",
       "3     267.0\n",
       "4    1260.0\n",
       "Name: gps_height, dtype: float64"
      ]
     },
     "execution_count": 69,
     "metadata": {},
     "output_type": "execute_result"
    }
   ],
   "source": [
    "test.gps_height.replace(0,np.nan,inplace=True)\n",
    "test.gps_height.head()"
   ]
  },
  {
   "cell_type": "code",
   "execution_count": 70,
   "metadata": {},
   "outputs": [
    {
     "name": "stdout",
     "output_type": "stream",
     "text": [
      "1018.8608387659771\n"
     ]
    }
   ],
   "source": [
    "Mean_value_g=train.gps_height.mean()\n",
    "print(Mean_value_g)"
   ]
  },
  {
   "cell_type": "code",
   "execution_count": 71,
   "metadata": {},
   "outputs": [
    {
     "name": "stdout",
     "output_type": "stream",
     "text": [
      "1009.3310509388941\n"
     ]
    }
   ],
   "source": [
    "Mean_value_g_test=test.gps_height.mean()\n",
    "print(Mean_value_g_test)"
   ]
  },
  {
   "cell_type": "code",
   "execution_count": 72,
   "metadata": {},
   "outputs": [],
   "source": [
    "train.gps_height.replace(np.nan,Mean_value_g,inplace=True)"
   ]
  },
  {
   "cell_type": "code",
   "execution_count": 73,
   "metadata": {},
   "outputs": [],
   "source": [
    "test.gps_height.replace(np.nan,Mean_value_g_test,inplace=True)"
   ]
  },
  {
   "cell_type": "markdown",
   "metadata": {},
   "source": [
    "### Filling missing values with unknown"
   ]
  },
  {
   "cell_type": "code",
   "execution_count": 74,
   "metadata": {
    "scrolled": true
   },
   "outputs": [
    {
     "data": {
      "text/plain": [
       "True     51011\n",
       "False     5055\n",
       "Name: public_meeting, dtype: int64"
      ]
     },
     "execution_count": 74,
     "metadata": {},
     "output_type": "execute_result"
    }
   ],
   "source": [
    "train['public_meeting'].value_counts()"
   ]
  },
  {
   "cell_type": "code",
   "execution_count": 75,
   "metadata": {
    "scrolled": true
   },
   "outputs": [],
   "source": [
    "# fill missing values with unknown\n",
    "\n",
    "train.public_meeting = train.public_meeting.fillna('Unknown')\n",
    "test.public_meeting = test.public_meeting.fillna('Unknown')"
   ]
  },
  {
   "cell_type": "code",
   "execution_count": 76,
   "metadata": {},
   "outputs": [
    {
     "data": {
      "text/plain": [
       "True     38852\n",
       "False    17492\n",
       "Name: permit, dtype: int64"
      ]
     },
     "execution_count": 76,
     "metadata": {},
     "output_type": "execute_result"
    }
   ],
   "source": [
    "#permit\n",
    "train['permit'].value_counts()"
   ]
  },
  {
   "cell_type": "code",
   "execution_count": 77,
   "metadata": {},
   "outputs": [],
   "source": [
    "# We only have two values here: true and false. This one can stay but we'll have to replace \n",
    "# the unknown data with a string value.\n",
    "# Replacing by mode.\n",
    "train.permit = train.permit.fillna('Unknown')\n",
    "test.permit = test.permit.fillna('Unknown')"
   ]
  },
  {
   "cell_type": "code",
   "execution_count": 78,
   "metadata": {
    "scrolled": true
   },
   "outputs": [
    {
     "data": {
      "text/plain": [
       "id                           0\n",
       "status_group                 0\n",
       "amount_tsh                   0\n",
       "date_recorded                0\n",
       "funder                       0\n",
       "gps_height                   0\n",
       "installer                    0\n",
       "longitude                    0\n",
       "latitude                     0\n",
       "wpt_name                     0\n",
       "num_private                  0\n",
       "basin                        0\n",
       "subvillage                 371\n",
       "region                       0\n",
       "region_code                  0\n",
       "district_code                0\n",
       "lga                          0\n",
       "ward                         0\n",
       "population                   0\n",
       "public_meeting               0\n",
       "recorded_by                  0\n",
       "scheme_management            0\n",
       "scheme_name              28166\n",
       "permit                       0\n",
       "construction_year            0\n",
       "extraction_type              0\n",
       "extraction_type_group        0\n",
       "extraction_type_class        0\n",
       "management                   0\n",
       "management_group             0\n",
       "payment                      0\n",
       "payment_type                 0\n",
       "water_quality                0\n",
       "quality_group                0\n",
       "quantity                     0\n",
       "quantity_group               0\n",
       "source                       0\n",
       "source_type                  0\n",
       "source_class                 0\n",
       "waterpoint_type              0\n",
       "waterpoint_type_group        0\n",
       "status_group_vals            0\n",
       "dtype: int64"
      ]
     },
     "execution_count": 78,
     "metadata": {},
     "output_type": "execute_result"
    }
   ],
   "source": [
    "\n",
    "# Checking Null Values on train data\n",
    "train.apply(lambda x: sum(x.isnull()), axis=0)"
   ]
  },
  {
   "cell_type": "code",
   "execution_count": 79,
   "metadata": {
    "scrolled": true
   },
   "outputs": [],
   "source": [
    "#From the above data, we can say the data is clean for both the training and testing"
   ]
  },
  {
   "cell_type": "code",
   "execution_count": 80,
   "metadata": {
    "scrolled": true
   },
   "outputs": [
    {
     "data": {
      "text/plain": [
       "id                       59400\n",
       "status_group                 3\n",
       "amount_tsh                  98\n",
       "date_recorded              356\n",
       "funder                      10\n",
       "gps_height                2428\n",
       "installer                    6\n",
       "longitude                57516\n",
       "latitude                 57517\n",
       "wpt_name                 37400\n",
       "num_private                 65\n",
       "basin                        9\n",
       "subvillage               19288\n",
       "region                      21\n",
       "region_code                 27\n",
       "district_code               20\n",
       "lga                        125\n",
       "ward                      2092\n",
       "population                1049\n",
       "public_meeting               3\n",
       "recorded_by                  1\n",
       "scheme_management            6\n",
       "scheme_name               2697\n",
       "permit                       3\n",
       "construction_year           55\n",
       "extraction_type             18\n",
       "extraction_type_group       13\n",
       "extraction_type_class        7\n",
       "management                  12\n",
       "management_group             5\n",
       "payment                      7\n",
       "payment_type                 7\n",
       "water_quality                8\n",
       "quality_group                6\n",
       "quantity                     5\n",
       "quantity_group               5\n",
       "source                      10\n",
       "source_type                  7\n",
       "source_class                 3\n",
       "waterpoint_type              7\n",
       "waterpoint_type_group        6\n",
       "status_group_vals            3\n",
       "dtype: int64"
      ]
     },
     "execution_count": 80,
     "metadata": {},
     "output_type": "execute_result"
    }
   ],
   "source": [
    "train.apply(lambda x: len(x.unique()))"
   ]
  },
  {
   "cell_type": "markdown",
   "metadata": {},
   "source": [
    "### Removing the duplicate attributes"
   ]
  },
  {
   "cell_type": "code",
   "execution_count": 81,
   "metadata": {
    "scrolled": true
   },
   "outputs": [
    {
     "data": {
      "text/plain": [
       "communal standpipe             28522\n",
       "hand pump                      17488\n",
       "other                           6380\n",
       "communal standpipe multiple     6103\n",
       "improved spring                  784\n",
       "cattle trough                    116\n",
       "dam                                7\n",
       "Name: waterpoint_type, dtype: int64"
      ]
     },
     "execution_count": 81,
     "metadata": {},
     "output_type": "execute_result"
    }
   ],
   "source": [
    "train['waterpoint_type'].value_counts()"
   ]
  },
  {
   "cell_type": "code",
   "execution_count": 82,
   "metadata": {
    "scrolled": true
   },
   "outputs": [
    {
     "data": {
      "text/plain": [
       "communal standpipe    34625\n",
       "hand pump             17488\n",
       "other                  6380\n",
       "improved spring         784\n",
       "cattle trough           116\n",
       "dam                       7\n",
       "Name: waterpoint_type_group, dtype: int64"
      ]
     },
     "execution_count": 82,
     "metadata": {},
     "output_type": "execute_result"
    }
   ],
   "source": [
    "train['waterpoint_type_group'].value_counts()"
   ]
  },
  {
   "cell_type": "code",
   "execution_count": 83,
   "metadata": {
    "scrolled": true
   },
   "outputs": [],
   "source": [
    "# waterpoint_type and waterpoint_type_group both are almost similar, communal standpipe and comunal standpipe multiple are merged \n",
    "# together in waterpoint_type_group\n",
    "# we can drop one of them\n",
    "\n",
    "train=train.drop(['waterpoint_type'],axis=1)\n",
    "test=test.drop(['waterpoint_type'],axis=1)"
   ]
  },
  {
   "cell_type": "code",
   "execution_count": 84,
   "metadata": {
    "scrolled": true
   },
   "outputs": [
    {
     "data": {
      "text/plain": [
       "spring                  17021\n",
       "shallow well            16824\n",
       "machine dbh             11075\n",
       "river                    9612\n",
       "rainwater harvesting     2295\n",
       "hand dtw                  874\n",
       "lake                      765\n",
       "dam                       656\n",
       "other                     212\n",
       "unknown                    66\n",
       "Name: source, dtype: int64"
      ]
     },
     "execution_count": 84,
     "metadata": {},
     "output_type": "execute_result"
    }
   ],
   "source": [
    "train['source'].value_counts()"
   ]
  },
  {
   "cell_type": "code",
   "execution_count": 85,
   "metadata": {
    "scrolled": true
   },
   "outputs": [
    {
     "data": {
      "text/plain": [
       "spring                  17021\n",
       "shallow well            16824\n",
       "borehole                11949\n",
       "river/lake              10377\n",
       "rainwater harvesting     2295\n",
       "dam                       656\n",
       "other                     278\n",
       "Name: source_type, dtype: int64"
      ]
     },
     "execution_count": 85,
     "metadata": {},
     "output_type": "execute_result"
    }
   ],
   "source": [
    "train['source_type'].value_counts()"
   ]
  },
  {
   "cell_type": "code",
   "execution_count": 86,
   "metadata": {
    "scrolled": true
   },
   "outputs": [
    {
     "data": {
      "text/plain": [
       "groundwater    45794\n",
       "surface        13328\n",
       "unknown          278\n",
       "Name: source_class, dtype: int64"
      ]
     },
     "execution_count": 86,
     "metadata": {},
     "output_type": "execute_result"
    }
   ],
   "source": [
    "train['source_class'].value_counts()"
   ]
  },
  {
   "cell_type": "code",
   "execution_count": 87,
   "metadata": {
    "scrolled": true
   },
   "outputs": [],
   "source": [
    "#from the above script, we can say the source and source_type are same because in source_type some values are merged together. \n",
    "# we can drop one of the column.\n",
    "\n",
    "train=train.drop(['source'],axis=1)\n",
    "test=test.drop(['source'],axis=1)"
   ]
  },
  {
   "cell_type": "code",
   "execution_count": 88,
   "metadata": {
    "scrolled": true
   },
   "outputs": [
    {
     "data": {
      "text/plain": [
       "enough          33186\n",
       "insufficient    15129\n",
       "dry              6246\n",
       "seasonal         4050\n",
       "unknown           789\n",
       "Name: quantity, dtype: int64"
      ]
     },
     "execution_count": 88,
     "metadata": {},
     "output_type": "execute_result"
    }
   ],
   "source": [
    "train['quantity'].value_counts()"
   ]
  },
  {
   "cell_type": "code",
   "execution_count": 89,
   "metadata": {
    "scrolled": true
   },
   "outputs": [
    {
     "data": {
      "text/plain": [
       "enough          33186\n",
       "insufficient    15129\n",
       "dry              6246\n",
       "seasonal         4050\n",
       "unknown           789\n",
       "Name: quantity_group, dtype: int64"
      ]
     },
     "execution_count": 89,
     "metadata": {},
     "output_type": "execute_result"
    }
   ],
   "source": [
    "train['quantity_group'].value_counts()"
   ]
  },
  {
   "cell_type": "code",
   "execution_count": 90,
   "metadata": {
    "scrolled": true
   },
   "outputs": [],
   "source": [
    "#from the above script, we can say the quantity and quantity_group both are same.\n",
    "# we can drop one of the column.\n",
    "\n",
    "train=train.drop(['quantity'],axis=1)\n",
    "test=test.drop(['quantity'],axis=1)"
   ]
  },
  {
   "cell_type": "code",
   "execution_count": 91,
   "metadata": {
    "scrolled": true
   },
   "outputs": [
    {
     "data": {
      "text/plain": [
       "soft                  50818\n",
       "salty                  4856\n",
       "unknown                1876\n",
       "milky                   804\n",
       "coloured                490\n",
       "salty abandoned         339\n",
       "fluoride                200\n",
       "fluoride abandoned       17\n",
       "Name: water_quality, dtype: int64"
      ]
     },
     "execution_count": 91,
     "metadata": {},
     "output_type": "execute_result"
    }
   ],
   "source": [
    "train['water_quality'].value_counts()"
   ]
  },
  {
   "cell_type": "code",
   "execution_count": 92,
   "metadata": {
    "scrolled": true
   },
   "outputs": [
    {
     "data": {
      "text/plain": [
       "good        50818\n",
       "salty        5195\n",
       "unknown      1876\n",
       "milky         804\n",
       "colored       490\n",
       "fluoride      217\n",
       "Name: quality_group, dtype: int64"
      ]
     },
     "execution_count": 92,
     "metadata": {},
     "output_type": "execute_result"
    }
   ],
   "source": [
    "train['quality_group'].value_counts()"
   ]
  },
  {
   "cell_type": "code",
   "execution_count": 93,
   "metadata": {
    "scrolled": true
   },
   "outputs": [],
   "source": [
    "#water_quality and quality_group are correlated . lets drop one of the column\n",
    "train=train.drop(['quality_group'],axis=1)\n",
    "test=test.drop(['quality_group'],axis=1)"
   ]
  },
  {
   "cell_type": "code",
   "execution_count": 94,
   "metadata": {
    "scrolled": true
   },
   "outputs": [
    {
     "data": {
      "text/plain": [
       "never pay                25348\n",
       "pay per bucket            8985\n",
       "pay monthly               8300\n",
       "unknown                   8157\n",
       "pay when scheme fails     3914\n",
       "pay annually              3642\n",
       "other                     1054\n",
       "Name: payment, dtype: int64"
      ]
     },
     "execution_count": 94,
     "metadata": {},
     "output_type": "execute_result"
    }
   ],
   "source": [
    "train['payment'].value_counts()"
   ]
  },
  {
   "cell_type": "code",
   "execution_count": 95,
   "metadata": {
    "scrolled": true
   },
   "outputs": [
    {
     "data": {
      "text/plain": [
       "never pay     25348\n",
       "per bucket     8985\n",
       "monthly        8300\n",
       "unknown        8157\n",
       "on failure     3914\n",
       "annually       3642\n",
       "other          1054\n",
       "Name: payment_type, dtype: int64"
      ]
     },
     "execution_count": 95,
     "metadata": {},
     "output_type": "execute_result"
    }
   ],
   "source": [
    "train['payment_type'].value_counts()"
   ]
  },
  {
   "cell_type": "code",
   "execution_count": 96,
   "metadata": {
    "scrolled": true
   },
   "outputs": [],
   "source": [
    "#from the above script, we can say the payment and payment_type both are same.\n",
    "# we can drop one of the column.\n",
    "\n",
    "train=train.drop(['payment'],axis=1)\n",
    "test=test.drop(['payment'],axis=1)"
   ]
  },
  {
   "cell_type": "code",
   "execution_count": 97,
   "metadata": {
    "scrolled": true
   },
   "outputs": [
    {
     "data": {
      "text/plain": [
       "vwc                 40507\n",
       "wug                  6515\n",
       "water board          2933\n",
       "wua                  2535\n",
       "private operator     1971\n",
       "parastatal           1768\n",
       "water authority       904\n",
       "other                 844\n",
       "company               685\n",
       "unknown               561\n",
       "other - school         99\n",
       "trust                  78\n",
       "Name: management, dtype: int64"
      ]
     },
     "execution_count": 97,
     "metadata": {},
     "output_type": "execute_result"
    }
   ],
   "source": [
    "train['management'].value_counts()"
   ]
  },
  {
   "cell_type": "code",
   "execution_count": 98,
   "metadata": {
    "scrolled": true
   },
   "outputs": [
    {
     "data": {
      "text/plain": [
       "user-group    52490\n",
       "commercial     3638\n",
       "parastatal     1768\n",
       "other           943\n",
       "unknown         561\n",
       "Name: management_group, dtype: int64"
      ]
     },
     "execution_count": 98,
     "metadata": {},
     "output_type": "execute_result"
    }
   ],
   "source": [
    "train['management_group'].value_counts()"
   ]
  },
  {
   "cell_type": "code",
   "execution_count": 99,
   "metadata": {
    "scrolled": true
   },
   "outputs": [],
   "source": [
    "#from the above script, we can say the management and management_group both are same, some values are merged together in management-group.\n",
    "# we can drop one of the column.\n",
    "\n",
    "train=train.drop(['management'],axis=1)\n",
    "test=test.drop(['management'],axis=1)"
   ]
  },
  {
   "cell_type": "code",
   "execution_count": 100,
   "metadata": {
    "scrolled": true
   },
   "outputs": [
    {
     "data": {
      "text/plain": [
       "gravity                      26780\n",
       "nira/tanira                   8154\n",
       "other                         6430\n",
       "submersible                   4764\n",
       "swn 80                        3670\n",
       "mono                          2865\n",
       "india mark ii                 2400\n",
       "afridev                       1770\n",
       "ksb                           1415\n",
       "other - rope pump              451\n",
       "other - swn 81                 229\n",
       "windmill                       117\n",
       "india mark iii                  98\n",
       "cemo                            90\n",
       "other - play pump               85\n",
       "walimi                          48\n",
       "climax                          32\n",
       "other - mkulima/shinyanga        2\n",
       "Name: extraction_type, dtype: int64"
      ]
     },
     "execution_count": 100,
     "metadata": {},
     "output_type": "execute_result"
    }
   ],
   "source": [
    "train['extraction_type'].value_counts()"
   ]
  },
  {
   "cell_type": "code",
   "execution_count": 101,
   "metadata": {
    "scrolled": true
   },
   "outputs": [
    {
     "data": {
      "text/plain": [
       "gravity            26780\n",
       "nira/tanira         8154\n",
       "other               6430\n",
       "submersible         6179\n",
       "swn 80              3670\n",
       "mono                2865\n",
       "india mark ii       2400\n",
       "afridev             1770\n",
       "rope pump            451\n",
       "other handpump       364\n",
       "other motorpump      122\n",
       "wind-powered         117\n",
       "india mark iii        98\n",
       "Name: extraction_type_group, dtype: int64"
      ]
     },
     "execution_count": 101,
     "metadata": {},
     "output_type": "execute_result"
    }
   ],
   "source": [
    "train['extraction_type_group'].value_counts()"
   ]
  },
  {
   "cell_type": "code",
   "execution_count": 102,
   "metadata": {
    "scrolled": true
   },
   "outputs": [
    {
     "data": {
      "text/plain": [
       "gravity         26780\n",
       "handpump        16456\n",
       "other            6430\n",
       "submersible      6179\n",
       "motorpump        2987\n",
       "rope pump         451\n",
       "wind-powered      117\n",
       "Name: extraction_type_class, dtype: int64"
      ]
     },
     "execution_count": 102,
     "metadata": {},
     "output_type": "execute_result"
    }
   ],
   "source": [
    "train['extraction_type_class'].value_counts()"
   ]
  },
  {
   "cell_type": "code",
   "execution_count": 103,
   "metadata": {
    "scrolled": true
   },
   "outputs": [],
   "source": [
    "#from the above script, we can say the exrtaction_type, extraction_type_group and extraction_type_class are same,\n",
    "#some values are merged together.\n",
    "\n",
    "train=train.drop(['extraction_type'],axis=1)\n",
    "test=test.drop(['extraction_type'],axis=1)\n",
    "\n",
    "train=train.drop(['extraction_type_group'],axis=1)\n",
    "test=test.drop(['extraction_type_group'],axis=1)"
   ]
  },
  {
   "cell_type": "code",
   "execution_count": 104,
   "metadata": {},
   "outputs": [
    {
     "data": {
      "text/plain": [
       "Madukani     508\n",
       "Shuleni      506\n",
       "Majengo      502\n",
       "Kati         373\n",
       "Mtakuja      262\n",
       "            ... \n",
       "Mbondela       1\n",
       "Asao           1\n",
       "Maliba A       1\n",
       "Luguya         1\n",
       "Bamnanika      1\n",
       "Name: subvillage, Length: 19287, dtype: int64"
      ]
     },
     "execution_count": 104,
     "metadata": {},
     "output_type": "execute_result"
    }
   ],
   "source": [
    "# as the subvillage attribute has many unique values so we cannot conclude anything from this\n",
    "train['subvillage'].value_counts()"
   ]
  },
  {
   "cell_type": "code",
   "execution_count": 105,
   "metadata": {},
   "outputs": [],
   "source": [
    "#better to drop this column\n",
    "train=train.drop(['subvillage'],axis=1)\n",
    "test=test.drop(['subvillage'],axis=1)"
   ]
  },
  {
   "cell_type": "code",
   "execution_count": 106,
   "metadata": {},
   "outputs": [
    {
     "data": {
      "text/plain": [
       "2697"
      ]
     },
     "execution_count": 106,
     "metadata": {},
     "output_type": "execute_result"
    }
   ],
   "source": [
    "len(train.scheme_name.unique())"
   ]
  },
  {
   "cell_type": "code",
   "execution_count": 107,
   "metadata": {},
   "outputs": [],
   "source": [
    "# There are so many unique values. so better to drop this coloumn\n",
    "\n",
    "train = train.drop('scheme_name', axis=1)\n",
    "test = test.drop('scheme_name', axis=1)"
   ]
  },
  {
   "cell_type": "code",
   "execution_count": 108,
   "metadata": {},
   "outputs": [
    {
     "data": {
      "text/plain": [
       "GeoData Consultants Ltd    59400\n",
       "Name: recorded_by, dtype: int64"
      ]
     },
     "execution_count": 108,
     "metadata": {},
     "output_type": "execute_result"
    }
   ],
   "source": [
    "train['recorded_by'].value_counts()\n",
    "#we can drop this column because all the values in this column are same. There is no point to go forward with this column."
   ]
  },
  {
   "cell_type": "code",
   "execution_count": 109,
   "metadata": {},
   "outputs": [],
   "source": [
    "train=train.drop(['recorded_by'],axis=1)\n",
    "test=test.drop(['recorded_by'],axis=1)"
   ]
  },
  {
   "cell_type": "code",
   "execution_count": 110,
   "metadata": {
    "scrolled": true
   },
   "outputs": [],
   "source": [
    "#num_private,id,water point name are not give any predictive value to the model..so drop these columns\n",
    "# region and region_code both are same so drop region\n",
    "# ward has so many unique values. so better to drop this column\n",
    "\n",
    "\n",
    "train = train.drop(['num_private', 'id','wpt_name','region','ward','status_group'], axis=1)\n",
    "\n",
    "test = test.drop(['num_private', 'id','wpt_name','ward','region'], axis=1)"
   ]
  },
  {
   "cell_type": "code",
   "execution_count": 111,
   "metadata": {
    "scrolled": true
   },
   "outputs": [],
   "source": [
    "# Turn construction_year into a categorical column containing the following values: '60s', '70s',\n",
    "# '80s', '90s, '00s', '10s', 'unknown'.\n",
    "\n",
    "def construction_wrangler(row):\n",
    "    if row['construction_year'] >= 1960 and row['construction_year'] < 1970:\n",
    "        return '60s'\n",
    "    elif row['construction_year'] >= 1970 and row['construction_year'] < 1980:\n",
    "        return '70s'\n",
    "    elif row['construction_year'] >= 1980 and row['construction_year'] < 1990:\n",
    "        return '80s'\n",
    "    elif row['construction_year'] >= 1990 and row['construction_year'] < 2000:\n",
    "        return '90s'\n",
    "    elif row['construction_year'] >= 2000 and row['construction_year'] < 2010:\n",
    "        return '00s'\n",
    "    elif row['construction_year'] >= 2010:\n",
    "        return '10s'\n",
    "    else:\n",
    "        return 'unknown'\n",
    "    \n",
    "train['construction_year'] = train.apply(lambda row: construction_wrangler(row), axis=1)\n",
    "test['construction_year'] = test.apply(lambda row: construction_wrangler(row), axis=1)"
   ]
  },
  {
   "cell_type": "code",
   "execution_count": 112,
   "metadata": {
    "scrolled": true
   },
   "outputs": [],
   "source": [
    "# convert date_recorded attribute to day since recorderd\n",
    "test.date_recorded = pd.datetime(2013, 12, 3) - pd.to_datetime(test.date_recorded)\n",
    "test.columns = ['days_since_recorded' if x=='date_recorded' else x for x in test.columns]\n",
    "test.days_since_recorded = test.days_since_recorded.astype('timedelta64[D]').astype(int)\n",
    "\n",
    "train.date_recorded = pd.datetime(2013, 12, 3) - pd.to_datetime(train.date_recorded)\n",
    "train.columns = ['days_since_recorded' if x=='date_recorded' else x for x in train.columns]\n",
    "train.days_since_recorded = train.days_since_recorded.astype('timedelta64[D]').astype(int)"
   ]
  },
  {
   "cell_type": "code",
   "execution_count": 113,
   "metadata": {
    "scrolled": false
   },
   "outputs": [
    {
     "data": {
      "text/plain": [
       "amount_tsh                  98\n",
       "days_since_recorded        356\n",
       "funder                      10\n",
       "gps_height                2428\n",
       "installer                    6\n",
       "longitude                57516\n",
       "latitude                 57517\n",
       "basin                        9\n",
       "region_code                 27\n",
       "district_code               20\n",
       "lga                        125\n",
       "population                1049\n",
       "public_meeting               3\n",
       "scheme_management            6\n",
       "permit                       3\n",
       "construction_year            7\n",
       "extraction_type_class        7\n",
       "management_group             5\n",
       "payment_type                 7\n",
       "water_quality                8\n",
       "quantity_group               5\n",
       "source_type                  7\n",
       "source_class                 3\n",
       "waterpoint_type_group        6\n",
       "status_group_vals            3\n",
       "dtype: int64"
      ]
     },
     "execution_count": 113,
     "metadata": {},
     "output_type": "execute_result"
    }
   ],
   "source": [
    "train.apply(lambda x: len(x.unique()))"
   ]
  },
  {
   "cell_type": "code",
   "execution_count": 114,
   "metadata": {
    "scrolled": true
   },
   "outputs": [
    {
     "data": {
      "text/plain": [
       "(59400, 25)"
      ]
     },
     "execution_count": 114,
     "metadata": {},
     "output_type": "execute_result"
    }
   ],
   "source": [
    "train.shape"
   ]
  },
  {
   "cell_type": "code",
   "execution_count": 115,
   "metadata": {
    "scrolled": true
   },
   "outputs": [
    {
     "data": {
      "text/plain": [
       "(14850, 24)"
      ]
     },
     "execution_count": 115,
     "metadata": {},
     "output_type": "execute_result"
    }
   ],
   "source": [
    "test.shape"
   ]
  },
  {
   "cell_type": "markdown",
   "metadata": {},
   "source": [
    "### one hot encodeing to convert categorical data to binary"
   ]
  },
  {
   "cell_type": "code",
   "execution_count": 116,
   "metadata": {
    "scrolled": true
   },
   "outputs": [],
   "source": [
    "import pandas as pd\n",
    "import numpy as np\n",
    "from sklearn.model_selection import train_test_split\n",
    "from sklearn.svm import LinearSVC\n",
    "#from sklearn.grid_search import GridSearchCV, RandomizedSearchCV\n",
    "from sklearn.pipeline import Pipeline\n",
    "from sklearn.preprocessing import StandardScaler\n",
    "from sklearn.ensemble import RandomForestClassifier\n",
    "from sklearn.ensemble import GradientBoostingClassifier\n",
    "import pandas_profiling\n",
    "#from boruta import BorutaPy\n",
    "from datetime import datetime"
   ]
  },
  {
   "cell_type": "code",
   "execution_count": 117,
   "metadata": {
    "scrolled": true
   },
   "outputs": [
    {
     "name": "stdout",
     "output_type": "stream",
     "text": [
      "<class 'pandas.core.frame.DataFrame'>\n",
      "Int64Index: 59400 entries, 0 to 59399\n",
      "Data columns (total 25 columns):\n",
      "amount_tsh               59400 non-null float64\n",
      "days_since_recorded      59400 non-null int64\n",
      "funder                   59400 non-null object\n",
      "gps_height               59400 non-null float64\n",
      "installer                59400 non-null object\n",
      "longitude                59400 non-null float64\n",
      "latitude                 59400 non-null float64\n",
      "basin                    59400 non-null object\n",
      "region_code              59400 non-null int64\n",
      "district_code            59400 non-null int64\n",
      "lga                      59400 non-null object\n",
      "population               59400 non-null float64\n",
      "public_meeting           59400 non-null object\n",
      "scheme_management        59400 non-null object\n",
      "permit                   59400 non-null object\n",
      "construction_year        59400 non-null object\n",
      "extraction_type_class    59400 non-null object\n",
      "management_group         59400 non-null object\n",
      "payment_type             59400 non-null object\n",
      "water_quality            59400 non-null object\n",
      "quantity_group           59400 non-null object\n",
      "source_type              59400 non-null object\n",
      "source_class             59400 non-null object\n",
      "waterpoint_type_group    59400 non-null object\n",
      "status_group_vals        59400 non-null int64\n",
      "dtypes: float64(5), int64(4), object(16)\n",
      "memory usage: 11.8+ MB\n"
     ]
    }
   ],
   "source": [
    "train.info()"
   ]
  },
  {
   "cell_type": "code",
   "execution_count": 118,
   "metadata": {
    "scrolled": true
   },
   "outputs": [],
   "source": [
    "# Get dummy columns for the categorical columns and shuffle the data.\n",
    "\n",
    "dummy_cols = ['funder', 'installer', 'basin','lga', 'public_meeting', 'scheme_management', 'permit',\n",
    "              'construction_year', 'extraction_type_class','management_group', 'payment_type', 'water_quality',\n",
    "              'quantity_group', 'source_type', 'source_class','waterpoint_type_group']\n",
    "\n",
    "train = pd.get_dummies(train, columns = dummy_cols)\n",
    "\n",
    "train = train.sample(frac=1).reset_index(drop=True)"
   ]
  },
  {
   "cell_type": "code",
   "execution_count": 119,
   "metadata": {
    "scrolled": true
   },
   "outputs": [],
   "source": [
    "test = pd.get_dummies(test, columns = dummy_cols)"
   ]
  },
  {
   "cell_type": "code",
   "execution_count": 120,
   "metadata": {
    "scrolled": true
   },
   "outputs": [
    {
     "name": "stdout",
     "output_type": "stream",
     "text": [
      "Shape of training data (59400, 226)\n",
      "Shape of testing data (14850, 225)\n"
     ]
    }
   ],
   "source": [
    "print('Shape of training data',train.shape)\n",
    "print('Shape of testing data',test.shape)"
   ]
  },
  {
   "cell_type": "markdown",
   "metadata": {},
   "source": [
    "### Inference\n",
    "#### before preprocessing we had 59400 rows and 226 columns in training dataset\n",
    "#### after preprocessing we have 59400 rows and 225 columns"
   ]
  },
  {
   "cell_type": "markdown",
   "metadata": {},
   "source": [
    "### Selection of important attributes using random forest classifier"
   ]
  },
  {
   "cell_type": "code",
   "execution_count": 121,
   "metadata": {
    "scrolled": true
   },
   "outputs": [],
   "source": [
    "import pandas as pd\n",
    "import numpy as np\n",
    "from matplotlib import pyplot as plt\n",
    "import seaborn as sns\n",
    "%matplotlib inline\n",
    "from sklearn.feature_selection import RFE, f_regression\n",
    "from sklearn import linear_model\n",
    "from sklearn.linear_model import Ridge\n",
    "from sklearn.linear_model import LinearRegression\n",
    "from sklearn.linear_model import Lasso\n",
    "#from sklearn.linear_model import RandomizedLasso\n",
    "#from sklearn.linear_model import (LinearRegression, Ridge, Lasso, RandomizedLasso)\n",
    "from sklearn.preprocessing import MinMaxScaler\n",
    "from sklearn.ensemble import RandomForestRegressor\n",
    "from boruta import BorutaPy\n",
    "from datetime import datetime"
   ]
  },
  {
   "cell_type": "code",
   "execution_count": 122,
   "metadata": {},
   "outputs": [],
   "source": [
    "target = train.status_group_vals\n",
    "features = train.drop('status_group_vals', axis=1)\n",
    "\n",
    "\n",
    "features1=features.copy()"
   ]
  },
  {
   "cell_type": "code",
   "execution_count": 123,
   "metadata": {},
   "outputs": [
    {
     "name": "stdout",
     "output_type": "stream",
     "text": [
      "Iteration: \t1 / 100\n",
      "Confirmed: \t0\n",
      "Tentative: \t225\n",
      "Rejected: \t0\n",
      "Iteration: \t2 / 100\n",
      "Confirmed: \t0\n",
      "Tentative: \t225\n",
      "Rejected: \t0\n",
      "Iteration: \t3 / 100\n",
      "Confirmed: \t0\n",
      "Tentative: \t225\n",
      "Rejected: \t0\n",
      "Iteration: \t4 / 100\n",
      "Confirmed: \t0\n",
      "Tentative: \t225\n",
      "Rejected: \t0\n",
      "Iteration: \t5 / 100\n",
      "Confirmed: \t0\n",
      "Tentative: \t225\n",
      "Rejected: \t0\n",
      "Iteration: \t6 / 100\n",
      "Confirmed: \t0\n",
      "Tentative: \t225\n",
      "Rejected: \t0\n",
      "Iteration: \t7 / 100\n",
      "Confirmed: \t0\n",
      "Tentative: \t225\n",
      "Rejected: \t0\n",
      "Iteration: \t8 / 100\n",
      "Confirmed: \t89\n",
      "Tentative: \t29\n",
      "Rejected: \t107\n",
      "Iteration: \t9 / 100\n",
      "Confirmed: \t89\n",
      "Tentative: \t29\n",
      "Rejected: \t107\n",
      "Iteration: \t10 / 100\n",
      "Confirmed: \t89\n",
      "Tentative: \t29\n",
      "Rejected: \t107\n",
      "Iteration: \t11 / 100\n",
      "Confirmed: \t89\n",
      "Tentative: \t29\n",
      "Rejected: \t107\n",
      "Iteration: \t12 / 100\n",
      "Confirmed: \t92\n",
      "Tentative: \t26\n",
      "Rejected: \t107\n",
      "Iteration: \t13 / 100\n",
      "Confirmed: \t92\n",
      "Tentative: \t26\n",
      "Rejected: \t107\n",
      "Iteration: \t14 / 100\n",
      "Confirmed: \t92\n",
      "Tentative: \t26\n",
      "Rejected: \t107\n",
      "Iteration: \t15 / 100\n",
      "Confirmed: \t92\n",
      "Tentative: \t24\n",
      "Rejected: \t109\n",
      "Iteration: \t16 / 100\n",
      "Confirmed: \t92\n",
      "Tentative: \t17\n",
      "Rejected: \t116\n",
      "Iteration: \t17 / 100\n",
      "Confirmed: \t92\n",
      "Tentative: \t17\n",
      "Rejected: \t116\n",
      "Iteration: \t18 / 100\n",
      "Confirmed: \t92\n",
      "Tentative: \t17\n",
      "Rejected: \t116\n",
      "Iteration: \t19 / 100\n",
      "Confirmed: \t92\n",
      "Tentative: \t17\n",
      "Rejected: \t116\n",
      "Iteration: \t20 / 100\n",
      "Confirmed: \t92\n",
      "Tentative: \t17\n",
      "Rejected: \t116\n",
      "Iteration: \t21 / 100\n",
      "Confirmed: \t92\n",
      "Tentative: \t15\n",
      "Rejected: \t118\n",
      "Iteration: \t22 / 100\n",
      "Confirmed: \t92\n",
      "Tentative: \t15\n",
      "Rejected: \t118\n",
      "Iteration: \t23 / 100\n",
      "Confirmed: \t92\n",
      "Tentative: \t15\n",
      "Rejected: \t118\n",
      "Iteration: \t24 / 100\n",
      "Confirmed: \t92\n",
      "Tentative: \t15\n",
      "Rejected: \t118\n",
      "Iteration: \t25 / 100\n",
      "Confirmed: \t92\n",
      "Tentative: \t15\n",
      "Rejected: \t118\n",
      "Iteration: \t26 / 100\n",
      "Confirmed: \t92\n",
      "Tentative: \t15\n",
      "Rejected: \t118\n",
      "Iteration: \t27 / 100\n",
      "Confirmed: \t92\n",
      "Tentative: \t13\n",
      "Rejected: \t120\n",
      "Iteration: \t28 / 100\n",
      "Confirmed: \t92\n",
      "Tentative: \t13\n",
      "Rejected: \t120\n",
      "Iteration: \t29 / 100\n",
      "Confirmed: \t92\n",
      "Tentative: \t13\n",
      "Rejected: \t120\n",
      "Iteration: \t30 / 100\n",
      "Confirmed: \t92\n",
      "Tentative: \t13\n",
      "Rejected: \t120\n",
      "Iteration: \t31 / 100\n",
      "Confirmed: \t92\n",
      "Tentative: \t13\n",
      "Rejected: \t120\n",
      "Iteration: \t32 / 100\n",
      "Confirmed: \t93\n",
      "Tentative: \t12\n",
      "Rejected: \t120\n",
      "Iteration: \t33 / 100\n",
      "Confirmed: \t93\n",
      "Tentative: \t12\n",
      "Rejected: \t120\n",
      "Iteration: \t34 / 100\n",
      "Confirmed: \t93\n",
      "Tentative: \t11\n",
      "Rejected: \t121\n",
      "Iteration: \t35 / 100\n",
      "Confirmed: \t93\n",
      "Tentative: \t11\n",
      "Rejected: \t121\n",
      "Iteration: \t36 / 100\n",
      "Confirmed: \t93\n",
      "Tentative: \t11\n",
      "Rejected: \t121\n",
      "Iteration: \t37 / 100\n",
      "Confirmed: \t93\n",
      "Tentative: \t11\n",
      "Rejected: \t121\n",
      "Iteration: \t38 / 100\n",
      "Confirmed: \t93\n",
      "Tentative: \t11\n",
      "Rejected: \t121\n",
      "Iteration: \t39 / 100\n",
      "Confirmed: \t93\n",
      "Tentative: \t11\n",
      "Rejected: \t121\n",
      "Iteration: \t40 / 100\n",
      "Confirmed: \t93\n",
      "Tentative: \t11\n",
      "Rejected: \t121\n",
      "Iteration: \t41 / 100\n",
      "Confirmed: \t93\n",
      "Tentative: \t11\n",
      "Rejected: \t121\n",
      "Iteration: \t42 / 100\n",
      "Confirmed: \t93\n",
      "Tentative: \t11\n",
      "Rejected: \t121\n",
      "Iteration: \t43 / 100\n",
      "Confirmed: \t93\n",
      "Tentative: \t11\n",
      "Rejected: \t121\n",
      "Iteration: \t44 / 100\n",
      "Confirmed: \t93\n",
      "Tentative: \t11\n",
      "Rejected: \t121\n",
      "Iteration: \t45 / 100\n",
      "Confirmed: \t93\n",
      "Tentative: \t10\n",
      "Rejected: \t122\n",
      "Iteration: \t46 / 100\n",
      "Confirmed: \t93\n",
      "Tentative: \t10\n",
      "Rejected: \t122\n",
      "Iteration: \t47 / 100\n",
      "Confirmed: \t93\n",
      "Tentative: \t10\n",
      "Rejected: \t122\n",
      "Iteration: \t48 / 100\n",
      "Confirmed: \t93\n",
      "Tentative: \t10\n",
      "Rejected: \t122\n",
      "Iteration: \t49 / 100\n",
      "Confirmed: \t93\n",
      "Tentative: \t10\n",
      "Rejected: \t122\n",
      "Iteration: \t50 / 100\n",
      "Confirmed: \t93\n",
      "Tentative: \t9\n",
      "Rejected: \t123\n",
      "Iteration: \t51 / 100\n",
      "Confirmed: \t94\n",
      "Tentative: \t8\n",
      "Rejected: \t123\n",
      "Iteration: \t52 / 100\n",
      "Confirmed: \t94\n",
      "Tentative: \t8\n",
      "Rejected: \t123\n",
      "Iteration: \t53 / 100\n",
      "Confirmed: \t94\n",
      "Tentative: \t7\n",
      "Rejected: \t124\n",
      "Iteration: \t54 / 100\n",
      "Confirmed: \t94\n",
      "Tentative: \t7\n",
      "Rejected: \t124\n",
      "Iteration: \t55 / 100\n",
      "Confirmed: \t94\n",
      "Tentative: \t7\n",
      "Rejected: \t124\n",
      "Iteration: \t56 / 100\n",
      "Confirmed: \t94\n",
      "Tentative: \t7\n",
      "Rejected: \t124\n",
      "Iteration: \t57 / 100\n",
      "Confirmed: \t94\n",
      "Tentative: \t7\n",
      "Rejected: \t124\n",
      "Iteration: \t58 / 100\n",
      "Confirmed: \t94\n",
      "Tentative: \t7\n",
      "Rejected: \t124\n",
      "Iteration: \t59 / 100\n",
      "Confirmed: \t94\n",
      "Tentative: \t7\n",
      "Rejected: \t124\n",
      "Iteration: \t60 / 100\n",
      "Confirmed: \t94\n",
      "Tentative: \t7\n",
      "Rejected: \t124\n",
      "Iteration: \t61 / 100\n",
      "Confirmed: \t94\n",
      "Tentative: \t7\n",
      "Rejected: \t124\n",
      "Iteration: \t62 / 100\n",
      "Confirmed: \t94\n",
      "Tentative: \t7\n",
      "Rejected: \t124\n",
      "Iteration: \t63 / 100\n",
      "Confirmed: \t94\n",
      "Tentative: \t7\n",
      "Rejected: \t124\n",
      "Iteration: \t64 / 100\n",
      "Confirmed: \t94\n",
      "Tentative: \t7\n",
      "Rejected: \t124\n",
      "Iteration: \t65 / 100\n",
      "Confirmed: \t94\n",
      "Tentative: \t7\n",
      "Rejected: \t124\n",
      "Iteration: \t66 / 100\n",
      "Confirmed: \t94\n",
      "Tentative: \t7\n",
      "Rejected: \t124\n",
      "Iteration: \t67 / 100\n",
      "Confirmed: \t94\n",
      "Tentative: \t7\n",
      "Rejected: \t124\n",
      "Iteration: \t68 / 100\n",
      "Confirmed: \t94\n",
      "Tentative: \t7\n",
      "Rejected: \t124\n",
      "Iteration: \t69 / 100\n",
      "Confirmed: \t94\n",
      "Tentative: \t7\n",
      "Rejected: \t124\n",
      "Iteration: \t70 / 100\n",
      "Confirmed: \t94\n",
      "Tentative: \t7\n",
      "Rejected: \t124\n",
      "Iteration: \t71 / 100\n",
      "Confirmed: \t94\n",
      "Tentative: \t7\n",
      "Rejected: \t124\n",
      "Iteration: \t72 / 100\n",
      "Confirmed: \t94\n",
      "Tentative: \t7\n",
      "Rejected: \t124\n",
      "Iteration: \t73 / 100\n",
      "Confirmed: \t94\n",
      "Tentative: \t7\n",
      "Rejected: \t124\n",
      "Iteration: \t74 / 100\n",
      "Confirmed: \t94\n",
      "Tentative: \t7\n",
      "Rejected: \t124\n",
      "Iteration: \t75 / 100\n",
      "Confirmed: \t94\n",
      "Tentative: \t7\n",
      "Rejected: \t124\n",
      "Iteration: \t76 / 100\n",
      "Confirmed: \t94\n",
      "Tentative: \t7\n",
      "Rejected: \t124\n",
      "Iteration: \t77 / 100\n",
      "Confirmed: \t94\n",
      "Tentative: \t7\n",
      "Rejected: \t124\n",
      "Iteration: \t78 / 100\n",
      "Confirmed: \t94\n",
      "Tentative: \t7\n",
      "Rejected: \t124\n",
      "Iteration: \t79 / 100\n",
      "Confirmed: \t94\n",
      "Tentative: \t7\n",
      "Rejected: \t124\n",
      "Iteration: \t80 / 100\n",
      "Confirmed: \t94\n",
      "Tentative: \t7\n",
      "Rejected: \t124\n",
      "Iteration: \t81 / 100\n",
      "Confirmed: \t94\n",
      "Tentative: \t7\n",
      "Rejected: \t124\n",
      "Iteration: \t82 / 100\n",
      "Confirmed: \t94\n",
      "Tentative: \t7\n",
      "Rejected: \t124\n",
      "Iteration: \t83 / 100\n",
      "Confirmed: \t94\n",
      "Tentative: \t7\n",
      "Rejected: \t124\n",
      "Iteration: \t84 / 100\n",
      "Confirmed: \t94\n",
      "Tentative: \t7\n",
      "Rejected: \t124\n",
      "Iteration: \t85 / 100\n",
      "Confirmed: \t94\n",
      "Tentative: \t7\n",
      "Rejected: \t124\n",
      "Iteration: \t86 / 100\n",
      "Confirmed: \t94\n",
      "Tentative: \t7\n",
      "Rejected: \t124\n",
      "Iteration: \t87 / 100\n",
      "Confirmed: \t94\n",
      "Tentative: \t7\n",
      "Rejected: \t124\n",
      "Iteration: \t88 / 100\n",
      "Confirmed: \t94\n",
      "Tentative: \t7\n",
      "Rejected: \t124\n",
      "Iteration: \t89 / 100\n",
      "Confirmed: \t94\n",
      "Tentative: \t7\n",
      "Rejected: \t124\n",
      "Iteration: \t90 / 100\n",
      "Confirmed: \t94\n",
      "Tentative: \t7\n",
      "Rejected: \t124\n",
      "Iteration: \t91 / 100\n",
      "Confirmed: \t94\n",
      "Tentative: \t7\n",
      "Rejected: \t124\n",
      "Iteration: \t92 / 100\n",
      "Confirmed: \t94\n",
      "Tentative: \t7\n",
      "Rejected: \t124\n",
      "Iteration: \t93 / 100\n",
      "Confirmed: \t94\n",
      "Tentative: \t7\n",
      "Rejected: \t124\n",
      "Iteration: \t94 / 100\n",
      "Confirmed: \t94\n",
      "Tentative: \t7\n",
      "Rejected: \t124\n",
      "Iteration: \t95 / 100\n",
      "Confirmed: \t94\n",
      "Tentative: \t7\n",
      "Rejected: \t124\n",
      "Iteration: \t96 / 100\n",
      "Confirmed: \t94\n",
      "Tentative: \t7\n",
      "Rejected: \t124\n",
      "Iteration: \t97 / 100\n",
      "Confirmed: \t94\n",
      "Tentative: \t7\n",
      "Rejected: \t124\n",
      "Iteration: \t98 / 100\n",
      "Confirmed: \t94\n",
      "Tentative: \t7\n",
      "Rejected: \t124\n",
      "Iteration: \t99 / 100\n",
      "Confirmed: \t94\n",
      "Tentative: \t7\n",
      "Rejected: \t124\n",
      "\n",
      "\n",
      "BorutaPy finished running.\n",
      "\n",
      "Iteration: \t100 / 100\n",
      "Confirmed: \t94\n",
      "Tentative: \t4\n",
      "Rejected: \t124\n"
     ]
    },
    {
     "data": {
      "text/plain": [
       "BorutaPy(alpha=0.05,\n",
       "         estimator=RandomForestClassifier(bootstrap=True, class_weight=None,\n",
       "                                          criterion='gini', max_depth=6,\n",
       "                                          max_features='auto',\n",
       "                                          max_leaf_nodes=None,\n",
       "                                          min_impurity_decrease=0.0,\n",
       "                                          min_impurity_split=None,\n",
       "                                          min_samples_leaf=1,\n",
       "                                          min_samples_split=2,\n",
       "                                          min_weight_fraction_leaf=0.0,\n",
       "                                          n_estimators=236, n_jobs=-1,\n",
       "                                          oob_score=True,\n",
       "                                          random_state=RandomState(MT19937) at 0x7FD897008678,\n",
       "                                          verbose=0, warm_start=False),\n",
       "         max_iter=100, n_estimators='auto', perc=100,\n",
       "         random_state=RandomState(MT19937) at 0x7FD897008678, two_step=True,\n",
       "         verbose=2)"
      ]
     },
     "execution_count": 123,
     "metadata": {},
     "output_type": "execute_result"
    }
   ],
   "source": [
    "rf = RandomForestClassifier(criterion='gini',\n",
    "                                n_estimators=500,\n",
    "                                max_features='auto',\n",
    "                                oob_score=True,\n",
    "                                random_state=1,\n",
    "                                n_jobs=-1,\n",
    "                                max_depth=6)\n",
    "\n",
    "X_boruta=features.values\n",
    "y_boruta=target.values\n",
    "\n",
    "boruta_selector = BorutaPy(rf, n_estimators='auto', verbose=2)\n",
    "#start_time = timer(None)\n",
    "boruta_selector.fit(X_boruta,y_boruta)\n",
    "#timer(start_time)"
   ]
  },
  {
   "cell_type": "code",
   "execution_count": 124,
   "metadata": {},
   "outputs": [
    {
     "name": "stdout",
     "output_type": "stream",
     "text": [
      "\n",
      " Number of selected features:\n",
      "94\n"
     ]
    }
   ],
   "source": [
    "\n",
    "# number of selected features\n",
    "print ('\\n Number of selected features:')\n",
    "print (boruta_selector.n_features_)"
   ]
  },
  {
   "cell_type": "code",
   "execution_count": 125,
   "metadata": {},
   "outputs": [
    {
     "name": "stdout",
     "output_type": "stream",
     "text": [
      "\n",
      " Top 94 features:\n",
      "                        0  rank\n",
      "0              amount_tsh     1\n",
      "1   construction_year_80s     1\n",
      "2   construction_year_70s     1\n",
      "3   construction_year_10s     1\n",
      "4   construction_year_00s     1\n",
      "..                    ...   ...\n",
      "89             gps_height     1\n",
      "90        installer_commu     1\n",
      "91                lga_Hai     1\n",
      "92   installer_government     1\n",
      "93          installer_dwe     1\n",
      "\n",
      "[94 rows x 2 columns]\n"
     ]
    }
   ],
   "source": [
    "features1=pd.DataFrame(features.columns.tolist())\n",
    "features1['rank']=boruta_selector.ranking_\n",
    "features1 = features1.sort_values('rank', ascending=True).reset_index(drop=True)\n",
    "print ('\\n Top %d features:' % boruta_selector.n_features_)\n",
    "print (features1.head(boruta_selector.n_features_))"
   ]
  },
  {
   "cell_type": "code",
   "execution_count": 126,
   "metadata": {},
   "outputs": [
    {
     "data": {
      "text/html": [
       "<div>\n",
       "<style scoped>\n",
       "    .dataframe tbody tr th:only-of-type {\n",
       "        vertical-align: middle;\n",
       "    }\n",
       "\n",
       "    .dataframe tbody tr th {\n",
       "        vertical-align: top;\n",
       "    }\n",
       "\n",
       "    .dataframe thead th {\n",
       "        text-align: right;\n",
       "    }\n",
       "</style>\n",
       "<table border=\"1\" class=\"dataframe\">\n",
       "  <thead>\n",
       "    <tr style=\"text-align: right;\">\n",
       "      <th></th>\n",
       "      <th>0</th>\n",
       "      <th>rank</th>\n",
       "    </tr>\n",
       "  </thead>\n",
       "  <tbody>\n",
       "    <tr>\n",
       "      <td>0</td>\n",
       "      <td>amount_tsh</td>\n",
       "      <td>1</td>\n",
       "    </tr>\n",
       "    <tr>\n",
       "      <td>1</td>\n",
       "      <td>construction_year_80s</td>\n",
       "      <td>1</td>\n",
       "    </tr>\n",
       "    <tr>\n",
       "      <td>2</td>\n",
       "      <td>construction_year_70s</td>\n",
       "      <td>1</td>\n",
       "    </tr>\n",
       "    <tr>\n",
       "      <td>3</td>\n",
       "      <td>construction_year_10s</td>\n",
       "      <td>1</td>\n",
       "    </tr>\n",
       "    <tr>\n",
       "      <td>4</td>\n",
       "      <td>construction_year_00s</td>\n",
       "      <td>1</td>\n",
       "    </tr>\n",
       "    <tr>\n",
       "      <td>...</td>\n",
       "      <td>...</td>\n",
       "      <td>...</td>\n",
       "    </tr>\n",
       "    <tr>\n",
       "      <td>220</td>\n",
       "      <td>waterpoint_type_group_dam</td>\n",
       "      <td>125</td>\n",
       "    </tr>\n",
       "    <tr>\n",
       "      <td>221</td>\n",
       "      <td>lga_Morogoro Urban</td>\n",
       "      <td>126</td>\n",
       "    </tr>\n",
       "    <tr>\n",
       "      <td>222</td>\n",
       "      <td>lga_Lindi Urban</td>\n",
       "      <td>127</td>\n",
       "    </tr>\n",
       "    <tr>\n",
       "      <td>223</td>\n",
       "      <td>water_quality_fluoride abandoned</td>\n",
       "      <td>128</td>\n",
       "    </tr>\n",
       "    <tr>\n",
       "      <td>224</td>\n",
       "      <td>lga_Nyamagana</td>\n",
       "      <td>129</td>\n",
       "    </tr>\n",
       "  </tbody>\n",
       "</table>\n",
       "<p>225 rows × 2 columns</p>\n",
       "</div>"
      ],
      "text/plain": [
       "                                    0  rank\n",
       "0                          amount_tsh     1\n",
       "1               construction_year_80s     1\n",
       "2               construction_year_70s     1\n",
       "3               construction_year_10s     1\n",
       "4               construction_year_00s     1\n",
       "..                                ...   ...\n",
       "220         waterpoint_type_group_dam   125\n",
       "221                lga_Morogoro Urban   126\n",
       "222                   lga_Lindi Urban   127\n",
       "223  water_quality_fluoride abandoned   128\n",
       "224                     lga_Nyamagana   129\n",
       "\n",
       "[225 rows x 2 columns]"
      ]
     },
     "execution_count": 126,
     "metadata": {},
     "output_type": "execute_result"
    }
   ],
   "source": [
    "features1=pd.DataFrame(features.columns.tolist())\n",
    "features1['rank']=boruta_selector.ranking_\n",
    "features1 = features1.sort_values('rank', ascending=True).reset_index(drop=True)\n",
    "features1"
   ]
  },
  {
   "cell_type": "code",
   "execution_count": 127,
   "metadata": {},
   "outputs": [],
   "source": [
    "#drop the least ranked attributes\n",
    "train=train.drop(['lga_Mufindi',\n",
    "'lga_Mpwapwa',\n",
    "'lga_Simanjiro',\n",
    "'lga_Singida Urban',\n",
    "'lga_Korogwe',\n",
    "'lga_Kigoma Urban',\n",
    "'lga_Iramba',\n",
    "'lga_Mtwara Urban',\n",
    "'lga_Handeni',\n",
    "'lga_Longido',\n",
    "'lga_Biharamulo',\n",
    "'lga_Bukoba Rural',\n",
    "'lga_Kilolo',\n",
    "'waterpoint_type_group_cattle trough',\n",
    "'extraction_type_class_wind-powered',\n",
    "'lga_Ngorongoro',\n",
    "'lga_Urambo',\n",
    "'lga_Arusha Urban',\n",
    "'lga_Kinondoni',\n",
    "'lga_Tanga',\n",
    "'lga_Shinyanga Urban',\n",
    "'lga_Ilemela',\n",
    "'lga_Chato',\n",
    "'lga_Bukoba Urban',\n",
    "'lga_Songea Urban',\n",
    "'lga_Morogoro Urban',\n",
    "'waterpoint_type_group_dam',\n",
    "'water_quality_fluoride abandoned',\n",
    "'lga_Lindi Urban',\n",
    "'lga_Nyamagana'],axis=1)\n",
    "\n",
    "test=test.drop(['lga_Mufindi',\n",
    "'lga_Mpwapwa',\n",
    "'lga_Simanjiro',\n",
    "'lga_Singida Urban',\n",
    "'lga_Korogwe',\n",
    "'lga_Kigoma Urban',\n",
    "'lga_Iramba',\n",
    "'lga_Mtwara Urban',\n",
    "'lga_Handeni',\n",
    "'lga_Longido',\n",
    "'lga_Biharamulo',\n",
    "'lga_Bukoba Rural',\n",
    "'lga_Kilolo',\n",
    "'waterpoint_type_group_cattle trough',\n",
    "'extraction_type_class_wind-powered',\n",
    "'lga_Ngorongoro',\n",
    "'lga_Urambo',\n",
    "'lga_Arusha Urban',\n",
    "'lga_Kinondoni',\n",
    "'lga_Tanga',\n",
    "'lga_Shinyanga Urban',\n",
    "'lga_Ilemela',\n",
    "'lga_Chato',\n",
    "'lga_Bukoba Urban',\n",
    "'lga_Songea Urban',\n",
    "'lga_Morogoro Urban',\n",
    "'waterpoint_type_group_dam',\n",
    "'water_quality_fluoride abandoned',\n",
    "'lga_Lindi Urban',\n",
    "'lga_Nyamagana'],axis=1)\n"
   ]
  },
  {
   "cell_type": "code",
   "execution_count": 128,
   "metadata": {
    "scrolled": true
   },
   "outputs": [
    {
     "data": {
      "text/plain": [
       "(59400, 196)"
      ]
     },
     "execution_count": 128,
     "metadata": {},
     "output_type": "execute_result"
    }
   ],
   "source": [
    "train.shape"
   ]
  },
  {
   "cell_type": "code",
   "execution_count": 129,
   "metadata": {
    "scrolled": true
   },
   "outputs": [
    {
     "data": {
      "text/html": [
       "<div>\n",
       "<style scoped>\n",
       "    .dataframe tbody tr th:only-of-type {\n",
       "        vertical-align: middle;\n",
       "    }\n",
       "\n",
       "    .dataframe tbody tr th {\n",
       "        vertical-align: top;\n",
       "    }\n",
       "\n",
       "    .dataframe thead th {\n",
       "        text-align: right;\n",
       "    }\n",
       "</style>\n",
       "<table border=\"1\" class=\"dataframe\">\n",
       "  <thead>\n",
       "    <tr style=\"text-align: right;\">\n",
       "      <th></th>\n",
       "      <th>amount_tsh</th>\n",
       "      <th>days_since_recorded</th>\n",
       "      <th>gps_height</th>\n",
       "      <th>longitude</th>\n",
       "      <th>latitude</th>\n",
       "      <th>region_code</th>\n",
       "      <th>district_code</th>\n",
       "      <th>population</th>\n",
       "      <th>status_group_vals</th>\n",
       "      <th>funder_Kkkt</th>\n",
       "      <th>...</th>\n",
       "      <th>source_type_river/lake</th>\n",
       "      <th>source_type_shallow well</th>\n",
       "      <th>source_type_spring</th>\n",
       "      <th>source_class_groundwater</th>\n",
       "      <th>source_class_surface</th>\n",
       "      <th>source_class_unknown</th>\n",
       "      <th>waterpoint_type_group_communal standpipe</th>\n",
       "      <th>waterpoint_type_group_hand pump</th>\n",
       "      <th>waterpoint_type_group_improved spring</th>\n",
       "      <th>waterpoint_type_group_other</th>\n",
       "    </tr>\n",
       "  </thead>\n",
       "  <tbody>\n",
       "    <tr>\n",
       "      <td>0</td>\n",
       "      <td>1062.351942</td>\n",
       "      <td>967</td>\n",
       "      <td>1018.860839</td>\n",
       "      <td>33.712257</td>\n",
       "      <td>-8.916951e+00</td>\n",
       "      <td>12</td>\n",
       "      <td>2</td>\n",
       "      <td>281.087167</td>\n",
       "      <td>0</td>\n",
       "      <td>0</td>\n",
       "      <td>...</td>\n",
       "      <td>1</td>\n",
       "      <td>0</td>\n",
       "      <td>0</td>\n",
       "      <td>0</td>\n",
       "      <td>1</td>\n",
       "      <td>0</td>\n",
       "      <td>1</td>\n",
       "      <td>0</td>\n",
       "      <td>0</td>\n",
       "      <td>0</td>\n",
       "    </tr>\n",
       "    <tr>\n",
       "      <td>1</td>\n",
       "      <td>1062.351942</td>\n",
       "      <td>830</td>\n",
       "      <td>1018.860839</td>\n",
       "      <td>33.662390</td>\n",
       "      <td>-2.673419e+00</td>\n",
       "      <td>19</td>\n",
       "      <td>2</td>\n",
       "      <td>281.087167</td>\n",
       "      <td>1</td>\n",
       "      <td>0</td>\n",
       "      <td>...</td>\n",
       "      <td>0</td>\n",
       "      <td>1</td>\n",
       "      <td>0</td>\n",
       "      <td>1</td>\n",
       "      <td>0</td>\n",
       "      <td>0</td>\n",
       "      <td>0</td>\n",
       "      <td>1</td>\n",
       "      <td>0</td>\n",
       "      <td>0</td>\n",
       "    </tr>\n",
       "    <tr>\n",
       "      <td>2</td>\n",
       "      <td>1062.351942</td>\n",
       "      <td>976</td>\n",
       "      <td>1018.860839</td>\n",
       "      <td>33.550157</td>\n",
       "      <td>-8.931206e+00</td>\n",
       "      <td>12</td>\n",
       "      <td>2</td>\n",
       "      <td>281.087167</td>\n",
       "      <td>2</td>\n",
       "      <td>0</td>\n",
       "      <td>...</td>\n",
       "      <td>1</td>\n",
       "      <td>0</td>\n",
       "      <td>0</td>\n",
       "      <td>0</td>\n",
       "      <td>1</td>\n",
       "      <td>0</td>\n",
       "      <td>1</td>\n",
       "      <td>0</td>\n",
       "      <td>0</td>\n",
       "      <td>0</td>\n",
       "    </tr>\n",
       "    <tr>\n",
       "      <td>3</td>\n",
       "      <td>200.000000</td>\n",
       "      <td>255</td>\n",
       "      <td>637.000000</td>\n",
       "      <td>37.918768</td>\n",
       "      <td>-4.517373e+00</td>\n",
       "      <td>3</td>\n",
       "      <td>3</td>\n",
       "      <td>93.000000</td>\n",
       "      <td>2</td>\n",
       "      <td>0</td>\n",
       "      <td>...</td>\n",
       "      <td>0</td>\n",
       "      <td>0</td>\n",
       "      <td>1</td>\n",
       "      <td>1</td>\n",
       "      <td>0</td>\n",
       "      <td>0</td>\n",
       "      <td>1</td>\n",
       "      <td>0</td>\n",
       "      <td>0</td>\n",
       "      <td>0</td>\n",
       "    </tr>\n",
       "    <tr>\n",
       "      <td>4</td>\n",
       "      <td>1062.351942</td>\n",
       "      <td>279</td>\n",
       "      <td>1018.860839</td>\n",
       "      <td>0.000000</td>\n",
       "      <td>-2.000000e-08</td>\n",
       "      <td>17</td>\n",
       "      <td>1</td>\n",
       "      <td>281.087167</td>\n",
       "      <td>1</td>\n",
       "      <td>0</td>\n",
       "      <td>...</td>\n",
       "      <td>0</td>\n",
       "      <td>1</td>\n",
       "      <td>0</td>\n",
       "      <td>1</td>\n",
       "      <td>0</td>\n",
       "      <td>0</td>\n",
       "      <td>0</td>\n",
       "      <td>1</td>\n",
       "      <td>0</td>\n",
       "      <td>0</td>\n",
       "    </tr>\n",
       "  </tbody>\n",
       "</table>\n",
       "<p>5 rows × 196 columns</p>\n",
       "</div>"
      ],
      "text/plain": [
       "    amount_tsh  days_since_recorded   gps_height  longitude      latitude  \\\n",
       "0  1062.351942                  967  1018.860839  33.712257 -8.916951e+00   \n",
       "1  1062.351942                  830  1018.860839  33.662390 -2.673419e+00   \n",
       "2  1062.351942                  976  1018.860839  33.550157 -8.931206e+00   \n",
       "3   200.000000                  255   637.000000  37.918768 -4.517373e+00   \n",
       "4  1062.351942                  279  1018.860839   0.000000 -2.000000e-08   \n",
       "\n",
       "   region_code  district_code  population  status_group_vals  funder_Kkkt  \\\n",
       "0           12              2  281.087167                  0            0   \n",
       "1           19              2  281.087167                  1            0   \n",
       "2           12              2  281.087167                  2            0   \n",
       "3            3              3   93.000000                  2            0   \n",
       "4           17              1  281.087167                  1            0   \n",
       "\n",
       "   ...  source_type_river/lake  source_type_shallow well  source_type_spring  \\\n",
       "0  ...                       1                         0                   0   \n",
       "1  ...                       0                         1                   0   \n",
       "2  ...                       1                         0                   0   \n",
       "3  ...                       0                         0                   1   \n",
       "4  ...                       0                         1                   0   \n",
       "\n",
       "   source_class_groundwater  source_class_surface  source_class_unknown  \\\n",
       "0                         0                     1                     0   \n",
       "1                         1                     0                     0   \n",
       "2                         0                     1                     0   \n",
       "3                         1                     0                     0   \n",
       "4                         1                     0                     0   \n",
       "\n",
       "   waterpoint_type_group_communal standpipe  waterpoint_type_group_hand pump  \\\n",
       "0                                         1                                0   \n",
       "1                                         0                                1   \n",
       "2                                         1                                0   \n",
       "3                                         1                                0   \n",
       "4                                         0                                1   \n",
       "\n",
       "   waterpoint_type_group_improved spring  waterpoint_type_group_other  \n",
       "0                                      0                            0  \n",
       "1                                      0                            0  \n",
       "2                                      0                            0  \n",
       "3                                      0                            0  \n",
       "4                                      0                            0  \n",
       "\n",
       "[5 rows x 196 columns]"
      ]
     },
     "execution_count": 129,
     "metadata": {},
     "output_type": "execute_result"
    }
   ],
   "source": [
    "train.head()"
   ]
  },
  {
   "cell_type": "code",
   "execution_count": 130,
   "metadata": {},
   "outputs": [
    {
     "data": {
      "text/plain": [
       "(14850, 195)"
      ]
     },
     "execution_count": 130,
     "metadata": {},
     "output_type": "execute_result"
    }
   ],
   "source": [
    "test.shape"
   ]
  },
  {
   "cell_type": "markdown",
   "metadata": {},
   "source": [
    "# 3 Model building"
   ]
  },
  {
   "cell_type": "code",
   "execution_count": 131,
   "metadata": {},
   "outputs": [],
   "source": [
    "target = train.status_group_vals\n",
    "features = train.drop('status_group_vals', axis=1)"
   ]
  },
  {
   "cell_type": "code",
   "execution_count": 132,
   "metadata": {},
   "outputs": [
    {
     "name": "stdout",
     "output_type": "stream",
     "text": [
      "42502    2\n",
      "28577    2\n",
      "40100    0\n",
      "31775    2\n",
      "39440    0\n",
      "        ..\n",
      "55169    2\n",
      "49861    2\n",
      "27063    0\n",
      "8366     0\n",
      "17530    1\n",
      "Name: status_group_vals, Length: 47520, dtype: int64 16063    0\n",
      "35157    1\n",
      "11952    0\n",
      "534      0\n",
      "33933    2\n",
      "        ..\n",
      "44890    2\n",
      "37879    2\n",
      "25395    2\n",
      "50143    0\n",
      "44850    2\n",
      "Name: status_group_vals, Length: 11880, dtype: int64\n"
     ]
    }
   ],
   "source": [
    "# split the data for test and train\n",
    "X_train, X_val, y_train, y_val = train_test_split(features, target, train_size=0.8,random_state=4)\n",
    "print(y_train,y_val)"
   ]
  },
  {
   "cell_type": "code",
   "execution_count": 133,
   "metadata": {},
   "outputs": [
    {
     "data": {
      "text/plain": [
       "(47520, 195)"
      ]
     },
     "execution_count": 133,
     "metadata": {},
     "output_type": "execute_result"
    }
   ],
   "source": [
    "X_train.shape"
   ]
  },
  {
   "cell_type": "markdown",
   "metadata": {
    "collapsed": true
   },
   "source": [
    "## Linear SVC model"
   ]
  },
  {
   "cell_type": "markdown",
   "metadata": {},
   "source": [
    "### 60.67 accuracy"
   ]
  },
  {
   "cell_type": "code",
   "execution_count": 134,
   "metadata": {
    "scrolled": true
   },
   "outputs": [],
   "source": [
    "#Support vector machine \n",
    "\n",
    "\n",
    "def Linear_svc_model(X_train, X_val, y_train, y_val, test):\n",
    "    if __name__ == '__main__':\n",
    "        \n",
    "        #scl = StandardScaler()\n",
    "        clf = LinearSVC()\n",
    "        \n",
    "        parameters = {'C':[0.001,0.01,0.1,1.0,10.0,100.0],'class_weight':[None, 'balanced']}\n",
    "\n",
    "        estimator = GridSearchCV(clf, parameters,n_jobs=-1)\n",
    "\n",
    "        estimator.fit(X_train, y_train)\n",
    "\n",
    "        best_params = estimator.best_params_\n",
    "                                 \n",
    "        validation_accuracy = estimator.score(X_val, y_val)\n",
    "        print('Validation accuracy: ', validation_accuracy*100)\n",
    "        print(best_params)\n",
    "        return clf"
   ]
  },
  {
   "cell_type": "code",
   "execution_count": 135,
   "metadata": {},
   "outputs": [
    {
     "name": "stderr",
     "output_type": "stream",
     "text": [
      "/home/v/anaconda3/lib/python3.7/site-packages/sklearn/model_selection/_split.py:1978: FutureWarning: The default value of cv will change from 3 to 5 in version 0.22. Specify it explicitly to silence this warning.\n",
      "  warnings.warn(CV_WARNING, FutureWarning)\n"
     ]
    },
    {
     "name": "stdout",
     "output_type": "stream",
     "text": [
      "Validation accuracy:  68.34175084175084\n",
      "{'C': 1.0, 'class_weight': None}\n"
     ]
    },
    {
     "name": "stderr",
     "output_type": "stream",
     "text": [
      "/home/v/anaconda3/lib/python3.7/site-packages/sklearn/svm/base.py:929: ConvergenceWarning: Liblinear failed to converge, increase the number of iterations.\n",
      "  \"the number of iterations.\", ConvergenceWarning)\n"
     ]
    }
   ],
   "source": [
    "from sklearn.model_selection import GridSearchCV\n",
    "clf=Linear_svc_model(X_train, X_val, y_train, y_val, test)\n"
   ]
  },
  {
   "cell_type": "code",
   "execution_count": 136,
   "metadata": {},
   "outputs": [
    {
     "name": "stderr",
     "output_type": "stream",
     "text": [
      "/home/v/anaconda3/lib/python3.7/site-packages/sklearn/svm/base.py:929: ConvergenceWarning: Liblinear failed to converge, increase the number of iterations.\n",
      "  \"the number of iterations.\", ConvergenceWarning)\n",
      "/home/v/anaconda3/lib/python3.7/site-packages/sklearn/svm/base.py:929: ConvergenceWarning: Liblinear failed to converge, increase the number of iterations.\n",
      "  \"the number of iterations.\", ConvergenceWarning)\n",
      "/home/v/anaconda3/lib/python3.7/site-packages/sklearn/svm/base.py:929: ConvergenceWarning: Liblinear failed to converge, increase the number of iterations.\n",
      "  \"the number of iterations.\", ConvergenceWarning)\n",
      "/home/v/anaconda3/lib/python3.7/site-packages/sklearn/svm/base.py:929: ConvergenceWarning: Liblinear failed to converge, increase the number of iterations.\n",
      "  \"the number of iterations.\", ConvergenceWarning)\n"
     ]
    },
    {
     "name": "stdout",
     "output_type": "stream",
     "text": [
      "[0.6144264  0.68824173 0.61195286 0.60951178 0.67570298]\n"
     ]
    },
    {
     "name": "stderr",
     "output_type": "stream",
     "text": [
      "/home/v/anaconda3/lib/python3.7/site-packages/sklearn/svm/base.py:929: ConvergenceWarning: Liblinear failed to converge, increase the number of iterations.\n",
      "  \"the number of iterations.\", ConvergenceWarning)\n"
     ]
    }
   ],
   "source": [
    "from sklearn.model_selection import cross_val_score\n",
    "\n",
    "scores = cross_val_score(clf, features, target, cv=5)\n",
    "print(scores)"
   ]
  },
  {
   "cell_type": "markdown",
   "metadata": {},
   "source": [
    "# XG Booster"
   ]
  },
  {
   "cell_type": "markdown",
   "metadata": {},
   "source": [
    "### 80.1 accuracy"
   ]
  },
  {
   "cell_type": "code",
   "execution_count": 137,
   "metadata": {},
   "outputs": [
    {
     "name": "stdout",
     "output_type": "stream",
     "text": [
      "Fitting 3 folds for each of 1 candidates, totalling 3 fits\n"
     ]
    },
    {
     "name": "stderr",
     "output_type": "stream",
     "text": [
      "[Parallel(n_jobs=8)]: Using backend LokyBackend with 8 concurrent workers.\n",
      "[Parallel(n_jobs=8)]: Done   3 out of   3 | elapsed:  4.8min remaining:    0.0s\n",
      "[Parallel(n_jobs=8)]: Done   3 out of   3 | elapsed:  4.8min finished\n"
     ]
    },
    {
     "name": "stdout",
     "output_type": "stream",
     "text": [
      "Best score: 0.796\n",
      "Best parameters set:\n",
      "\tlearning_rate: 0.1\n",
      "\tmax_depth: 100\n",
      "\tn_estimators: 100\n"
     ]
    }
   ],
   "source": [
    "#XGBoost is an optimized distributed gradient boosting library designed to be highly efficient, flexible and portable.\n",
    "#XGBoost is a lot faster and its performance is superior to sklearn's GradientBoosting.\n",
    "#Xgboost does regularization of the tree as well to avoid overfitting.\n",
    "\n",
    "import xgboost as xgb\n",
    "from sklearn.model_selection import GridSearchCV\n",
    "from xgboost.sklearn import XGBClassifier\n",
    "from sklearn import decomposition \n",
    "#from sklearn import grid_search\n",
    "#from sklearn.grid_search import GridSearchCV\n",
    "from sklearn.model_selection import GridSearchCV\n",
    "\n",
    "\n",
    "\n",
    "# Grid Search - Used to find best combination of parameters\n",
    "XGB_model = xgb.XGBClassifier(objective='multi:softprob',\n",
    "                              subsample=0.9, colsample_bytree=0.5, \n",
    "                              seed=0)\n",
    "# \n",
    "param_grid = {'max_depth': [100], 'learning_rate': [0.1], \n",
    "              'n_estimators': [100]}\n",
    "#param_grid = {'max_depth': [3, 4, 5], 'learning_rate': [0.1, 0.3], 'n_estimators': [25, 50]} ##Note running this step can take a significant amount of time, might take hours as well.\n",
    "model = GridSearchCV(estimator=XGB_model,param_grid=param_grid,\n",
    "                                 scoring='accuracy', verbose=5, n_jobs=8, \n",
    "                                 iid=True, refit=True, cv=3)\n",
    "\n",
    "#model.fit(X, y)\n",
    "model.fit(X_train, y_train)\n",
    "y_pred1=model.predict(X_val)\n",
    "print(\"Best score: %0.3f\" % model.best_score_)\n",
    "print(\"Best parameters set:\")\n",
    "best_parameters = model.best_estimator_.get_params()\n",
    "for param_name in sorted(param_grid.keys()):\n",
    "    print(\"\\t%s: %r\" % (param_name, best_parameters[param_name]))"
   ]
  },
  {
   "cell_type": "code",
   "execution_count": 138,
   "metadata": {},
   "outputs": [
    {
     "name": "stdout",
     "output_type": "stream",
     "text": [
      "[[3600   71  906]\n",
      " [ 146  326  398]\n",
      " [ 541  178 5714]]\n"
     ]
    }
   ],
   "source": [
    "from sklearn.metrics import confusion_matrix\n",
    "cf=confusion_matrix(y_val,y_pred1)\n",
    "print(cf)"
   ]
  },
  {
   "cell_type": "code",
   "execution_count": 139,
   "metadata": {},
   "outputs": [
    {
     "name": "stdout",
     "output_type": "stream",
     "text": [
      "              precision    recall  f1-score   support\n",
      "\n",
      "           0       0.84      0.79      0.81      4577\n",
      "           1       0.57      0.37      0.45       870\n",
      "           2       0.81      0.89      0.85      6433\n",
      "\n",
      "    accuracy                           0.81     11880\n",
      "   macro avg       0.74      0.68      0.70     11880\n",
      "weighted avg       0.81      0.81      0.81     11880\n",
      "\n"
     ]
    }
   ],
   "source": [
    "from sklearn.metrics import classification_report,confusion_matrix\n",
    "report=classification_report(y_val,y_pred1)\n",
    "print(report)"
   ]
  },
  {
   "cell_type": "code",
   "execution_count": 140,
   "metadata": {},
   "outputs": [
    {
     "name": "stdout",
     "output_type": "stream",
     "text": [
      "[0.7432876  0.74614931 0.74360269 0.74377104 0.74347533]\n"
     ]
    }
   ],
   "source": [
    "from sklearn.model_selection import cross_val_score\n",
    "\n",
    "scores1 = cross_val_score(XGB_model, features, target, cv=5)\n",
    "print(scores1)"
   ]
  },
  {
   "cell_type": "markdown",
   "metadata": {},
   "source": [
    "# RandomforestClassifier"
   ]
  },
  {
   "cell_type": "markdown",
   "metadata": {},
   "source": [
    "### 81.48 accuracy"
   ]
  },
  {
   "cell_type": "code",
   "execution_count": 141,
   "metadata": {},
   "outputs": [],
   "source": [
    "def GradientBoostingClassifier_random_forest_model1 (X_train, X_val, y_train, y_val, test):\n",
    "    if __name__ == '__main__':\n",
    "        \n",
    "        rf = RandomForestClassifier(criterion='entropy',\n",
    "                                n_estimators=1000,\n",
    "                                max_features='auto',\n",
    "                                oob_score=True,\n",
    "                                min_samples_split=40,\n",
    "                                random_state=60,\n",
    "                                n_jobs=8)\n",
    "\n",
    "        \n",
    "        param_grid = {\"min_samples_split\" : [8],\n",
    "             \"n_estimators\" : [1000]}\n",
    "\n",
    "        estimator = GridSearchCV(estimator=rf,\n",
    "                  param_grid=param_grid,\n",
    "                  scoring='accuracy',\n",
    "                  cv=5,\n",
    "                  n_jobs=9)\n",
    "\n",
    "        \n",
    "        estimator.fit(X_train, y_train)\n",
    "        y_pred=estimator.predict(X_val)\n",
    "        best_params = estimator.best_params_\n",
    "                                 \n",
    "        validation_accuracy = estimator.score(X_val, y_val)\n",
    "        print('Validation accuracy: ', validation_accuracy*100)\n",
    "        print(best_params)\n",
    "        return y_pred,rf"
   ]
  },
  {
   "cell_type": "code",
   "execution_count": 142,
   "metadata": {},
   "outputs": [
    {
     "name": "stdout",
     "output_type": "stream",
     "text": [
      "Validation accuracy:  81.48989898989899\n",
      "{'min_samples_split': 8, 'n_estimators': 1000}\n"
     ]
    },
    {
     "data": {
      "text/plain": [
       "(array([0, 2, 2, ..., 2, 0, 2]),\n",
       " RandomForestClassifier(bootstrap=True, class_weight=None, criterion='entropy',\n",
       "                        max_depth=None, max_features='auto', max_leaf_nodes=None,\n",
       "                        min_impurity_decrease=0.0, min_impurity_split=None,\n",
       "                        min_samples_leaf=1, min_samples_split=40,\n",
       "                        min_weight_fraction_leaf=0.0, n_estimators=1000,\n",
       "                        n_jobs=8, oob_score=True, random_state=60, verbose=0,\n",
       "                        warm_start=False))"
      ]
     },
     "execution_count": 142,
     "metadata": {},
     "output_type": "execute_result"
    }
   ],
   "source": [
    "GradientBoostingClassifier_random_forest_model1 (X_train, X_val, y_train, y_val, test)"
   ]
  },
  {
   "cell_type": "code",
   "execution_count": 143,
   "metadata": {
    "scrolled": true
   },
   "outputs": [
    {
     "name": "stdout",
     "output_type": "stream",
     "text": [
      "       expected  predicted\n",
      "16063         0          0\n",
      "35157         1          1\n",
      "11952         0          2\n",
      "534           0          0\n",
      "33933         2          2\n",
      "...         ...        ...\n",
      "44890         2          2\n",
      "37879         2          2\n",
      "25395         2          2\n",
      "50143         0          2\n",
      "44850         2          2\n",
      "\n",
      "[11880 rows x 2 columns]\n"
     ]
    }
   ],
   "source": [
    "dout= {'expected' : y_val, 'predicted' : y_pred1}\n",
    "out=pd.DataFrame(dout)\n",
    "print(out)"
   ]
  },
  {
   "cell_type": "code",
   "execution_count": 144,
   "metadata": {},
   "outputs": [
    {
     "name": "stdout",
     "output_type": "stream",
     "text": [
      "[0.71929972 0.72350812 0.71801347 0.7236532  0.7241118 ]\n"
     ]
    }
   ],
   "source": [
    "from sklearn.model_selection import cross_val_score\n",
    "\n",
    "scores = cross_val_score(rf, features, target, cv=5)\n",
    "print(scores)"
   ]
  },
  {
   "cell_type": "markdown",
   "metadata": {},
   "source": [
    "## Validation curve for Randomforest"
   ]
  },
  {
   "cell_type": "code",
   "execution_count": 145,
   "metadata": {},
   "outputs": [
    {
     "data": {
      "image/png": "[encoded data removed]",
      "text/plain": [
       "<Figure size 432x288 with 1 Axes>"
      ]
     },
     "metadata": {
      "needs_background": "light"
     },
     "output_type": "display_data"
    }
   ],
   "source": [
    "import matplotlib.pyplot as plt\n",
    "import numpy as np\n",
    "\n",
    "from sklearn.datasets import load_digits\n",
    "from sklearn.svm import SVC\n",
    "from sklearn.model_selection import validation_curve\n",
    "\n",
    "X, y = features, target\n",
    "\n",
    "param_range = np.arange(1, 250, 2)\n",
    "train_scores, test_scores = validation_curve(RandomForestClassifier(criterion='entropy',\n",
    "                                n_estimators=1000,\n",
    "                                max_features='auto',\n",
    "                                oob_score=True,\n",
    "                                min_samples_split=40,\n",
    "                                random_state=60,\n",
    "                                n_jobs=8), \n",
    "                                             X, \n",
    "                                             y, \n",
    "                                             param_name=\"n_estimators\", \n",
    "                                             param_range=param_range,\n",
    "                                             cv=3, \n",
    "                                             scoring=\"accuracy\", \n",
    "                                             n_jobs=-1)\n",
    "train_mean = np.mean(train_scores, axis=1)\n",
    "train_std = np.std(train_scores, axis=1)\n",
    "\n",
    "# Calculate mean and standard deviation for test set scores\n",
    "test_mean = np.mean(test_scores, axis=1)\n",
    "test_std = np.std(test_scores, axis=1)\n",
    "\n",
    "# Plot mean accuracy scores for training and test sets\n",
    "plt.plot(param_range, train_mean, label=\"Training score\", color=\"black\")\n",
    "plt.plot(param_range, test_mean, label=\"Cross-validation score\", color=\"dimgrey\")\n",
    "\n",
    "# Plot accurancy bands for training and test sets\n",
    "plt.fill_between(param_range, train_mean - train_std, train_mean + train_std, color=\"gray\")\n",
    "plt.fill_between(param_range, test_mean - test_std, test_mean + test_std, color=\"gainsboro\")\n",
    "\n",
    "# Create plot\n",
    "plt.title(\"Validation Curve With Random Forest\")\n",
    "plt.xlabel(\"Number Of Trees\")\n",
    "plt.ylabel(\"Accuracy\")\n",
    "plt.tight_layout()\n",
    "plt.legend(loc=\"best\")\n",
    "plt.show()"
   ]
  },
  {
   "cell_type": "code",
   "execution_count": 146,
   "metadata": {},
   "outputs": [],
   "source": [
    "#the difference between train and validation accuracy is nearly 2%\n",
    "#so we can say that the model is slghtly underfitting"
   ]
  },
  {
   "cell_type": "code",
   "execution_count": 147,
   "metadata": {},
   "outputs": [
    {
     "name": "stderr",
     "output_type": "stream",
     "text": [
      "/home/v/anaconda3/lib/python3.7/site-packages/joblib/externals/loky/process_executor.py:706: UserWarning: A worker stopped while some jobs were given to the executor. This can be caused by a too short worker timeout or by a memory leak.\n",
      "  \"timeout or by a memory leak.\", UserWarning\n"
     ]
    },
    {
     "data": {
      "image/png": "[encoded data removed]",
      "text/plain": [
       "<Figure size 432x288 with 1 Axes>"
      ]
     },
     "metadata": {
      "needs_background": "light"
     },
     "output_type": "display_data"
    }
   ],
   "source": [
    "import matplotlib.pyplot as plt\n",
    "import numpy as np\n",
    "from sklearn.model_selection import validation_curve\n",
    "\n",
    "X, y = features, target\n",
    "\n",
    "param_range = np.arange(1, 250, 2)\n",
    "train_scores, test_scores = validation_curve(xgb.XGBClassifier(objective='multi:softprob',\n",
    "                              subsample=0.5, colsample_bytree=0.5, \n",
    "                              seed=0), \n",
    "                                             X, \n",
    "                                             y, \n",
    "                                             param_name=\"n_estimators\", \n",
    "                                             param_range=param_range,\n",
    "                                             cv=3, \n",
    "                                             scoring=\"accuracy\", \n",
    "                                             n_jobs=-1)\n",
    "train_mean = np.mean(train_scores, axis=1)\n",
    "train_std = np.std(train_scores, axis=1)\n",
    "\n",
    "# Calculate mean and standard deviation for test set scores\n",
    "test_mean = np.mean(test_scores, axis=1)\n",
    "test_std = np.std(test_scores, axis=1)\n",
    "\n",
    "# Plot mean accuracy scores for training and test sets\n",
    "plt.plot(param_range, train_mean, label=\"Training score\", color=\"black\")\n",
    "plt.plot(param_range, test_mean, label=\"Cross-validation score\", color=\"dimgrey\")\n",
    "\n",
    "# Plot accurancy bands for training and test sets\n",
    "plt.fill_between(param_range, train_mean - train_std, train_mean + train_std, color=\"gray\")\n",
    "plt.fill_between(param_range, test_mean - test_std, test_mean + test_std, color=\"gainsboro\")\n",
    "\n",
    "# Create plot\n",
    "plt.title(\"Validation Curve With XGBooster\")\n",
    "plt.xlabel(\"Number Of Trees\")\n",
    "plt.ylabel(\"Accuracy\")\n",
    "plt.tight_layout()\n",
    "plt.legend(loc=\"best\")\n",
    "plt.show()"
   ]
  },
  {
   "cell_type": "code",
   "execution_count": 148,
   "metadata": {},
   "outputs": [],
   "source": [
    "#the difference between model accuracy and validation accuracy is nearly 4%\n",
    "#so we can say that the model is slghtly overfitting"
   ]
  },
  {
   "cell_type": "markdown",
   "metadata": {},
   "source": [
    "#### REFERENCE :\n",
    "##### https://github.com/pancr9/Pump-It-Up/blob/master/Pump%20It%20Up%20-%20Data%20Cleaning.ipynb\n",
    "##### https://www.kaggle.com/arthurtok/feature-ranking-rfe-random-forest-linear-models\n",
    "#### https://chrisalbon.com/machine_learning/model_evaluation/plot_the_validation_curve/"
   ]
  },
  {
   "cell_type": "code",
   "execution_count": null,
   "metadata": {},
   "outputs": [],
   "source": []
  },
  {
   "cell_type": "code",
   "execution_count": null,
   "metadata": {},
   "outputs": [],
   "source": []
  },
  {
   "cell_type": "code",
   "execution_count": null,
   "metadata": {},
   "outputs": [],
   "source": []
  },
  {
   "cell_type": "code",
   "execution_count": null,
   "metadata": {},
   "outputs": [],
   "source": []
  },
  {
   "cell_type": "code",
   "execution_count": null,
   "metadata": {},
   "outputs": [],
   "source": []
  },
  {
   "cell_type": "code",
   "execution_count": null,
   "metadata": {},
   "outputs": [],
   "source": []
  },
  {
   "cell_type": "code",
   "execution_count": null,
   "metadata": {},
   "outputs": [],
   "source": []
  },
  {
   "cell_type": "code",
   "execution_count": null,
   "metadata": {},
   "outputs": [],
   "source": []
  },
  {
   "cell_type": "code",
   "execution_count": null,
   "metadata": {},
   "outputs": [],
   "source": []
  },
  {
   "cell_type": "code",
   "execution_count": null,
   "metadata": {},
   "outputs": [],
   "source": []
  },
  {
   "cell_type": "code",
   "execution_count": null,
   "metadata": {},
   "outputs": [],
   "source": []
  },
  {
   "cell_type": "code",
   "execution_count": null,
   "metadata": {},
   "outputs": [],
   "source": []
  },
  {
   "cell_type": "code",
   "execution_count": null,
   "metadata": {},
   "outputs": [],
   "source": []
  },
  {
   "cell_type": "code",
   "execution_count": null,
   "metadata": {},
   "outputs": [],
   "source": []
  },
  {
   "cell_type": "code",
   "execution_count": null,
   "metadata": {},
   "outputs": [],
   "source": []
  },
  {
   "cell_type": "code",
   "execution_count": null,
   "metadata": {},
   "outputs": [],
   "source": []
  },
  {
   "cell_type": "code",
   "execution_count": null,
   "metadata": {},
   "outputs": [],
   "source": []
  },
  {
   "cell_type": "code",
   "execution_count": null,
   "metadata": {},
   "outputs": [],
   "source": []
  },
  {
   "cell_type": "code",
   "execution_count": null,
   "metadata": {},
   "outputs": [],
   "source": []
  },
  {
   "cell_type": "code",
   "execution_count": null,
   "metadata": {},
   "outputs": [],
   "source": []
  },
  {
   "cell_type": "code",
   "execution_count": null,
   "metadata": {},
   "outputs": [],
   "source": []
  },
  {
   "cell_type": "code",
   "execution_count": null,
   "metadata": {},
   "outputs": [],
   "source": []
  },
  {
   "cell_type": "code",
   "execution_count": null,
   "metadata": {},
   "outputs": [],
   "source": []
  },
  {
   "cell_type": "code",
   "execution_count": null,
   "metadata": {},
   "outputs": [],
   "source": []
  },
  {
   "cell_type": "code",
   "execution_count": null,
   "metadata": {},
   "outputs": [],
   "source": []
  },
  {
   "cell_type": "code",
   "execution_count": null,
   "metadata": {},
   "outputs": [],
   "source": []
  },
  {
   "cell_type": "code",
   "execution_count": null,
   "metadata": {},
   "outputs": [],
   "source": []
  },
  {
   "cell_type": "code",
   "execution_count": null,
   "metadata": {},
   "outputs": [],
   "source": []
  },
  {
   "cell_type": "code",
   "execution_count": null,
   "metadata": {},
   "outputs": [],
   "source": []
  },
  {
   "cell_type": "code",
   "execution_count": null,
   "metadata": {},
   "outputs": [],
   "source": []
  },
  {
   "cell_type": "code",
   "execution_count": null,
   "metadata": {},
   "outputs": [],
   "source": []
  },
  {
   "cell_type": "code",
   "execution_count": null,
   "metadata": {},
   "outputs": [],
   "source": []
  },
  {
   "cell_type": "code",
   "execution_count": null,
   "metadata": {},
   "outputs": [],
   "source": []
  },
  {
   "cell_type": "code",
   "execution_count": null,
   "metadata": {},
   "outputs": [],
   "source": []
  },
  {
   "cell_type": "code",
   "execution_count": null,
   "metadata": {},
   "outputs": [],
   "source": []
  },
  {
   "cell_type": "code",
   "execution_count": null,
   "metadata": {},
   "outputs": [],
   "source": []
  },
  {
   "cell_type": "code",
   "execution_count": null,
   "metadata": {},
   "outputs": [],
   "source": []
  },
  {
   "cell_type": "code",
   "execution_count": null,
   "metadata": {},
   "outputs": [],
   "source": []
  },
  {
   "cell_type": "code",
   "execution_count": null,
   "metadata": {},
   "outputs": [],
   "source": []
  },
  {
   "cell_type": "code",
   "execution_count": null,
   "metadata": {},
   "outputs": [],
   "source": []
  },
  {
   "cell_type": "code",
   "execution_count": null,
   "metadata": {},
   "outputs": [],
   "source": []
  },
  {
   "cell_type": "code",
   "execution_count": null,
   "metadata": {},
   "outputs": [],
   "source": []
  },
  {
   "cell_type": "code",
   "execution_count": null,
   "metadata": {},
   "outputs": [],
   "source": []
  },
  {
   "cell_type": "code",
   "execution_count": null,
   "metadata": {},
   "outputs": [],
   "source": []
  },
  {
   "cell_type": "code",
   "execution_count": null,
   "metadata": {},
   "outputs": [],
   "source": []
  },
  {
   "cell_type": "code",
   "execution_count": null,
   "metadata": {},
   "outputs": [],
   "source": []
  },
  {
   "cell_type": "code",
   "execution_count": null,
   "metadata": {},
   "outputs": [],
   "source": []
  },
  {
   "cell_type": "code",
   "execution_count": null,
   "metadata": {},
   "outputs": [],
   "source": []
  },
  {
   "cell_type": "code",
   "execution_count": null,
   "metadata": {},
   "outputs": [],
   "source": []
  },
  {
   "cell_type": "code",
   "execution_count": null,
   "metadata": {},
   "outputs": [],
   "source": []
  },
  {
   "cell_type": "code",
   "execution_count": null,
   "metadata": {},
   "outputs": [],
   "source": []
  },
  {
   "cell_type": "code",
   "execution_count": null,
   "metadata": {},
   "outputs": [],
   "source": []
  },
  {
   "cell_type": "code",
   "execution_count": null,
   "metadata": {},
   "outputs": [],
   "source": []
  },
  {
   "cell_type": "code",
   "execution_count": null,
   "metadata": {},
   "outputs": [],
   "source": []
  },
  {
   "cell_type": "code",
   "execution_count": null,
   "metadata": {},
   "outputs": [],
   "source": []
  },
  {
   "cell_type": "code",
   "execution_count": null,
   "metadata": {},
   "outputs": [],
   "source": []
  },
  {
   "cell_type": "code",
   "execution_count": null,
   "metadata": {},
   "outputs": [],
   "source": []
  },
  {
   "cell_type": "code",
   "execution_count": null,
   "metadata": {},
   "outputs": [],
   "source": []
  },
  {
   "cell_type": "code",
   "execution_count": null,
   "metadata": {},
   "outputs": [],
   "source": []
  },
  {
   "cell_type": "code",
   "execution_count": null,
   "metadata": {},
   "outputs": [],
   "source": []
  }
 ],
 "metadata": {
  "kernelspec": {
   "display_name": "Python 3",
   "language": "python",
   "name": "python3"
  },
  "language_info": {
   "codemirror_mode": {
    "name": "ipython",
    "version": 3
   },
   "file_extension": ".py",
   "mimetype": "text/x-python",
   "name": "python",
   "nbconvert_exporter": "python",
   "pygments_lexer": "ipython3",
   "version": "3.7.3"
  }
 },
 "nbformat": 4,
 "nbformat_minor": 2
}
